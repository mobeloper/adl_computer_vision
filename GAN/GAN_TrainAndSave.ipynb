{
  "cells": [
    {
      "cell_type": "code",
      "execution_count": null,
      "metadata": {
        "id": "uTfJ8v8gXSUM"
      },
      "outputs": [],
      "source": [
        "# Types of GAN\n",
        "# 1. Basic GAN (Vanilla GAN) ----- Original GAN written by Ian Goodfellow (2014)"
      ]
    },
    {
      "cell_type": "markdown",
      "metadata": {
        "id": "Af4NA1HjbIbj"
      },
      "source": [
        "# Create a GAN model that can Generate a realistic handwritten digits.\n",
        "\n"
      ]
    },
    {
      "cell_type": "code",
      "execution_count": null,
      "metadata": {
        "id": "dcBDf6yu-Tti"
      },
      "outputs": [],
      "source": [
        "import torch\n",
        "import torch.nn as nn\n",
        "import torch.optim as optim\n",
        "from torchvision import datasets, transforms\n",
        "from torch.utils.data import DataLoader\n",
        "import matplotlib.pyplot as plt\n",
        "import numpy as np\n"
      ]
    },
    {
      "cell_type": "code",
      "execution_count": null,
      "metadata": {
        "id": "RUaFx0tm-fy4"
      },
      "outputs": [],
      "source": [
        "transform = transforms.Compose([\n",
        "    transforms.ToTensor(),             # Converts PIL image to tensor\n",
        "    transforms.Normalize([0.5], [0.5]) # Normalize pixel values from [0,1] to [-1,1]\n",
        "])\n"
      ]
    },
    {
      "cell_type": "code",
      "execution_count": null,
      "metadata": {
        "colab": {
          "base_uri": "https://localhost:8080/"
        },
        "id": "weDjsKZ7-hgy",
        "outputId": "153d567a-7287-44c6-dedd-8cd13ad2afe5"
      },
      "outputs": [],
      "source": [
        "dataloader = DataLoader(\n",
        "    datasets.MNIST('.', train=True, download=True, transform=transform),\n",
        "    batch_size=128,\n",
        "    shuffle=True\n",
        ")\n"
      ]
    },
    {
      "cell_type": "markdown",
      "metadata": {
        "id": "0SNiQYFQ-moJ"
      },
      "source": [
        "Generator Network"
      ]
    },
    {
      "cell_type": "code",
      "execution_count": null,
      "metadata": {
        "id": "JopxN_aX-jWX"
      },
      "outputs": [],
      "source": [
        "class Generator(nn.Module):\n",
        "    def __init__(self, noise_dim):\n",
        "        super().__init__()\n",
        "        self.net = nn.Sequential(\n",
        "            nn.Linear(noise_dim, 256),   # Input: random noise (100 dims) → 256\n",
        "            nn.ReLU(True),               # Activation for non-linearity\n",
        "            nn.Linear(256, 512),         # 256 → 512\n",
        "            nn.ReLU(True),\n",
        "            nn.Linear(512, 1024),        # 512 → 1024\n",
        "            nn.ReLU(True),\n",
        "            nn.Linear(1024, 28*28),      # Final layer to match image size (784 pixels)\n",
        "            nn.Tanh()                    # Output in range [-1, 1] to match normalized image\n",
        "        )\n",
        "\n",
        "    def forward(self, z):\n",
        "        out = self.net(z)\n",
        "        return out.view(-1, 1, 28, 28)  # Reshape to 28x28 grayscale image\n"
      ]
    },
    {
      "cell_type": "markdown",
      "metadata": {
        "id": "xOPeHlix-rz7"
      },
      "source": [
        " Discriminator Network"
      ]
    },
    {
      "cell_type": "code",
      "execution_count": null,
      "metadata": {
        "id": "VmlmF_tz-phj"
      },
      "outputs": [],
      "source": [
        "class Discriminator(nn.Module):\n",
        "    def __init__(self):\n",
        "        super().__init__()\n",
        "        self.net = nn.Sequential(\n",
        "            nn.Flatten(),                # Flatten 28x28 image to 784\n",
        "            nn.Linear(28*28, 512),\n",
        "            nn.LeakyReLU(0.2),           # Leaky ReLU prevents dying neurons\n",
        "            nn.Linear(512, 256),\n",
        "            nn.LeakyReLU(0.2),\n",
        "            nn.Linear(256, 1),           # Final layer outputs single score\n",
        "            nn.Sigmoid()                 # Converts score to probability [0,1]\n",
        "        )\n",
        "\n",
        "    def forward(self, x):\n",
        "        return self.net(x)\n"
      ]
    },
    {
      "cell_type": "markdown",
      "metadata": {
        "id": "Pqk6dKyS-vTy"
      },
      "source": [
        "Model Initialization"
      ]
    },
    {
      "cell_type": "code",
      "execution_count": null,
      "metadata": {
        "id": "dbF7RFEH-tXo"
      },
      "outputs": [],
      "source": [
        "device = torch.device(\"cuda\" if torch.cuda.is_available() else \"cpu\")\n"
      ]
    },
    {
      "cell_type": "code",
      "execution_count": null,
      "metadata": {
        "id": "p7-yrjnd-wv2"
      },
      "outputs": [],
      "source": [
        "noise_dim = 100                    # Size of the noise vector input to Generator\n",
        "G = Generator(noise_dim).to(device)\n",
        "D = Discriminator().to(device)\n"
      ]
    },
    {
      "cell_type": "code",
      "execution_count": null,
      "metadata": {
        "id": "81jKItln-x8g"
      },
      "outputs": [],
      "source": [
        "criterion = nn.BCELoss()          # Binary Cross-Entropy for classification\n",
        "optimizer_G = optim.Adam(G.parameters(), lr=0.0002)\n",
        "optimizer_D = optim.Adam(D.parameters(), lr=0.0002)\n"
      ]
    },
    {
      "cell_type": "code",
      "execution_count": null,
      "metadata": {
        "colab": {
          "base_uri": "https://localhost:8080/",
          "height": 1000
        },
        "id": "rG5J8_YS-zdP",
        "outputId": "f5d3bbb2-23e8-4e44-bc29-e4c299dfd580"
      },
      "outputs": [],
      "source": [
        "epochs = 500\n",
        "\n",
        "#Loop over each batch and epoch.\n",
        "#_ ignores the labels since GANs are unsupervised.\n",
        "\n",
        "for epoch in range(epochs):\n",
        "    for real_images, _ in dataloader:\n",
        "        real_images = real_images.to(device)\n",
        "        batch_size = real_images.size(0)\n",
        "\n",
        "        # Real and fake labels\n",
        "        real_labels = torch.ones(batch_size, 1).to(device)\n",
        "        fake_labels = torch.zeros(batch_size, 1).to(device)\n",
        "\n",
        "        # Train on real images\n",
        "        optimizer_D.zero_grad()\n",
        "        outputs_real = D(real_images)           # Real image score\n",
        "        loss_real = criterion(outputs_real, real_labels)\n",
        "\n",
        "        # Generate fake images\n",
        "        z = torch.randn(batch_size, noise_dim).to(device)\n",
        "        fake_images = G(z)\n",
        "\n",
        "        outputs_fake = D(fake_images.detach())  # Detach to avoid updating G\n",
        "        loss_fake = criterion(outputs_fake, fake_labels)\n",
        "\n",
        "        # Total discriminator loss\n",
        "        loss_D = loss_real + loss_fake\n",
        "        loss_D.backward()\n",
        "        optimizer_D.step()\n",
        "        optimizer_G.zero_grad()\n",
        "\n",
        "        outputs = D(fake_images)                # Try to fool D with fake images\n",
        "        loss_G = criterion(outputs, real_labels)  # G wants D to label them as real (1)\n",
        "        loss_G.backward()\n",
        "        optimizer_G.step()\n",
        "        print(f\"Epoch [{epoch+1}/{epochs}], Loss D: {loss_D.item():.4f}, Loss G: {loss_G.item():.4f}\")\n",
        "\n",
        "        if (epoch + 1) % 100 == 0:\n",
        "          with torch.no_grad():  # Turn off gradients for inference\n",
        "            z = torch.randn(64, noise_dim).to(device)\n",
        "            fake = G(z).cpu()\n",
        "            grid = fake.view(64, 1, 28, 28).detach().numpy()\n",
        "\n",
        "            # Create a 8x8 grid of images\n",
        "            fig, axs = plt.subplots(8, 8, figsize=(8, 8))\n",
        "            for i in range(8):\n",
        "                for j in range(8):\n",
        "                    axs[i, j].imshow(grid[i*8+j][0], cmap='gray')\n",
        "                    axs[i, j].axis('off')\n",
        "            plt.show()\n",
        "\n",
        "\n",
        "\n",
        "\n",
        "\n",
        "\n"
      ]
    },
    {
      "cell_type": "code",
      "execution_count": null,
      "metadata": {
        "id": "sviP5rr0_Yhx"
      },
      "outputs": [],
      "source": [
        "# Save the Trained Generator Model\n",
        "torch.save(G.state_dict(), 'generator.pth')\n",
        "#This saves only the weights (not the full model) to generator.pth."
      ]
    },
    {
      "cell_type": "code",
      "execution_count": null,
      "metadata": {
        "colab": {
          "base_uri": "https://localhost:8080/"
        },
        "id": "EqK8TizvQIe1",
        "outputId": "0d85bbc4-a9b2-4e95-b32e-f6eae02d4638"
      },
      "outputs": [],
      "source": [
        "#Load the Trained Generator : Rebuild the Generator architecture and load the weights\n",
        "\n",
        "# Same Generator class must be defined\n",
        "class Generator(nn.Module):\n",
        "    def __init__(self, noise_dim):\n",
        "        super().__init__()\n",
        "        self.net = nn.Sequential(\n",
        "            nn.Linear(noise_dim, 256),\n",
        "            nn.ReLU(True),\n",
        "            nn.Linear(256, 512),\n",
        "            nn.ReLU(True),\n",
        "            nn.Linear(512, 1024),\n",
        "            nn.ReLU(True),\n",
        "            nn.Linear(1024, 28*28),\n",
        "            nn.Tanh()\n",
        "        )\n",
        "\n",
        "    def forward(self, z):\n",
        "        out = self.net(z)\n",
        "        return out.view(-1, 1, 28, 28)\n",
        "\n",
        "# Initialize and load the model\n",
        "noise_dim = 100\n",
        "G = Generator(noise_dim)\n",
        "G.load_state_dict(torch.load('generator.pth'))\n",
        "G.eval()  # Set to evaluation mode\n",
        "\n"
      ]
    },
    {
      "cell_type": "code",
      "execution_count": null,
      "metadata": {
        "colab": {
          "base_uri": "https://localhost:8080/",
          "height": 428
        },
        "id": "rcNnbCaRQdzW",
        "outputId": "c7c28cc3-9616-4ce0-9c41-6410fc786f72"
      },
      "outputs": [],
      "source": [
        "#Generate a Single Fake Image\n",
        "\n",
        "import matplotlib.pyplot as plt\n",
        "import torch\n",
        "\n",
        "# Generate random noise\n",
        "z = torch.randn(1, noise_dim)  # One image\n",
        "\n",
        "# Generate image\n",
        "with torch.no_grad():\n",
        "    fake_image = G(z)\n",
        "\n",
        "# Convert to numpy and visualize\n",
        "image_np = fake_image.squeeze().numpy()  # remove batch & channel dims\n",
        "\n",
        "plt.imshow(image_np, cmap='gray')\n",
        "plt.title(\"Generated Fake Image\")\n",
        "plt.axis('off')\n",
        "plt.show()\n"
      ]
    }
  ],
  "metadata": {
    "accelerator": "GPU",
    "colab": {
      "gpuType": "T4",
      "provenance": []
    },
    "kernelspec": {
      "display_name": "Python 3",
      "name": "python3"
    },
    "language_info": {
      "name": "python"
    }
  },
  "nbformat": 4,
  "nbformat_minor": 0
}
