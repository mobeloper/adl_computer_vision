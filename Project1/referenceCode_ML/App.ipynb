{
 "cells": [
  {
   "cell_type": "code",
   "execution_count": 7,
   "id": "3458d9c7",
   "metadata": {},
   "outputs": [],
   "source": [
    "import pickle\n",
    "import numpy as np\n",
    "\n",
    "model = pickle.load(open('ProfitPredictor.mdl','rb'))\n",
    "ohe = pickle.load(open('StateEncoder.encoder','rb'))"
   ]
  },
  {
   "cell_type": "code",
   "execution_count": 8,
   "id": "3c598a64",
   "metadata": {},
   "outputs": [
    {
     "name": "stdout",
     "output_type": "stream",
     "text": [
      "Enter R&D :23456\n",
      "Enter Administration Spend: 23456\n",
      "Enter Marketing Spend: 34567\n",
      "Enter State: California\n",
      "Predicted Profit is :  68490.78316376626\n"
     ]
    }
   ],
   "source": [
    "\n",
    "#R&D Spend\tAdministration\tMarketing Spend\tState\n",
    "\n",
    "rdSpend = float(input(\"Enter R&D :\"))\n",
    "admSpend = float(input(\"Enter Administration Spend: \"))\n",
    "markSpend = float(input(\"Enter Marketing Spend: \"))\n",
    "state = input(\"Enter State: \")\n",
    "\n",
    "if state not in list(ohe.categories_)[0]:\n",
    "    print(\"State not known by AI master :( \")\n",
    "else:\n",
    "    stateDummy = ohe.transform(np.array([[state]]))\n",
    "    compatibleFeatureSet = np.concatenate((stateDummy,np.array([[rdSpend,admSpend,markSpend]])), axis=1)\n",
    "    profit=model.predict(compatibleFeatureSet)[0]\n",
    "    print(\"Predicted Profit is : \",profit)\n"
   ]
  },
  {
   "cell_type": "code",
   "execution_count": null,
   "id": "c6d28f46",
   "metadata": {},
   "outputs": [],
   "source": []
  }
 ],
 "metadata": {
  "kernelspec": {
   "display_name": "Python 3 (ipykernel)",
   "language": "python",
   "name": "python3"
  },
  "language_info": {
   "codemirror_mode": {
    "name": "ipython",
    "version": 3
   },
   "file_extension": ".py",
   "mimetype": "text/x-python",
   "name": "python",
   "nbconvert_exporter": "python",
   "pygments_lexer": "ipython3",
   "version": "3.9.7"
  }
 },
 "nbformat": 4,
 "nbformat_minor": 5
}
