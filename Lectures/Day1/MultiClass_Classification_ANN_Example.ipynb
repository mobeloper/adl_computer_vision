{
  "nbformat": 4,
  "nbformat_minor": 0,
  "metadata": {
    "colab": {
      "provenance": []
    },
    "kernelspec": {
      "name": "python3",
      "display_name": "Python 3"
    },
    "language_info": {
      "name": "python"
    }
  },
  "cells": [
    {
      "cell_type": "code",
      "execution_count": null,
      "metadata": {
        "id": "SnAwWmRvqO2A"
      },
      "outputs": [],
      "source": [
        "import pandas as pd\n",
        "import numpy as np\n",
        "import tensorflow as tf"
      ]
    },
    {
      "cell_type": "code",
      "source": [
        "data = pd.read_csv(\"https://gist.githubusercontent.com/netj/8836201/raw/6f9306ad21398ea43cba4f7d537619d0e07d5ae3/iris.csv\")"
      ],
      "metadata": {
        "id": "GRgNhLPsqaqV"
      },
      "execution_count": null,
      "outputs": []
    },
    {
      "cell_type": "code",
      "source": [
        "data.info()"
      ],
      "metadata": {
        "colab": {
          "base_uri": "https://localhost:8080/"
        },
        "id": "D5NcyC1tqcO0",
        "outputId": "6b6e7464-41fd-4c4c-8f51-0d98ce2856e9"
      },
      "execution_count": null,
      "outputs": [
        {
          "output_type": "stream",
          "name": "stdout",
          "text": [
            "<class 'pandas.core.frame.DataFrame'>\n",
            "RangeIndex: 150 entries, 0 to 149\n",
            "Data columns (total 5 columns):\n",
            " #   Column        Non-Null Count  Dtype  \n",
            "---  ------        --------------  -----  \n",
            " 0   sepal.length  150 non-null    float64\n",
            " 1   sepal.width   150 non-null    float64\n",
            " 2   petal.length  150 non-null    float64\n",
            " 3   petal.width   150 non-null    float64\n",
            " 4   variety       150 non-null    object \n",
            "dtypes: float64(4), object(1)\n",
            "memory usage: 6.0+ KB\n"
          ]
        }
      ]
    },
    {
      "cell_type": "code",
      "source": [
        "data.variety.unique()"
      ],
      "metadata": {
        "colab": {
          "base_uri": "https://localhost:8080/"
        },
        "id": "fi4IdVKIqdaN",
        "outputId": "4e654723-3e62-41b6-d7c6-2cc18b99d687"
      },
      "execution_count": null,
      "outputs": [
        {
          "output_type": "execute_result",
          "data": {
            "text/plain": [
              "array(['Setosa', 'Versicolor', 'Virginica'], dtype=object)"
            ]
          },
          "metadata": {},
          "execution_count": 4
        }
      ]
    },
    {
      "cell_type": "code",
      "source": [
        "#Seperate data as features and label\n",
        "\n",
        "features = data.iloc[:,[0,1,2,3]].values\n",
        "label = data.iloc[:,[4]].values"
      ],
      "metadata": {
        "id": "wCF0un5eqeuD"
      },
      "execution_count": null,
      "outputs": []
    },
    {
      "cell_type": "code",
      "source": [
        "# Scaling features\n",
        "\n",
        "from sklearn.preprocessing import StandardScaler\n",
        "sc = StandardScaler()\n",
        "features = sc.fit_transform(features)"
      ],
      "metadata": {
        "id": "wv0ZctwDqoz0"
      },
      "execution_count": null,
      "outputs": []
    },
    {
      "cell_type": "code",
      "source": [
        "#Lets make label discrete\n",
        "\n",
        "from sklearn.preprocessing import LabelEncoder\n",
        "leSpecies = LabelEncoder()\n",
        "discreteLabels = leSpecies.fit_transform(label)"
      ],
      "metadata": {
        "colab": {
          "base_uri": "https://localhost:8080/"
        },
        "id": "NXdP3gwZqyBd",
        "outputId": "e259a772-de40-4e3d-bd61-0b6e212641da"
      },
      "execution_count": null,
      "outputs": [
        {
          "output_type": "stream",
          "name": "stderr",
          "text": [
            "/usr/local/lib/python3.10/dist-packages/sklearn/preprocessing/_label.py:116: DataConversionWarning: A column-vector y was passed when a 1d array was expected. Please change the shape of y to (n_samples, ), for example using ravel().\n",
            "  y = column_or_1d(y, warn=True)\n"
          ]
        }
      ]
    },
    {
      "cell_type": "code",
      "source": [
        "leSpecies.classes_"
      ],
      "metadata": {
        "colab": {
          "base_uri": "https://localhost:8080/"
        },
        "id": "mTJ0pwmirJ3j",
        "outputId": "f7558cad-ab27-4fe4-de8c-8e03a8677dd9"
      },
      "execution_count": null,
      "outputs": [
        {
          "output_type": "execute_result",
          "data": {
            "text/plain": [
              "array(['Setosa', 'Versicolor', 'Virginica'], dtype=object)"
            ]
          },
          "metadata": {},
          "execution_count": 9
        }
      ]
    },
    {
      "cell_type": "code",
      "source": [
        "leSpecies.transform(np.array([['Versicolor']]))"
      ],
      "metadata": {
        "colab": {
          "base_uri": "https://localhost:8080/"
        },
        "id": "mFzzmic2rNmJ",
        "outputId": "3068341a-2d07-444c-a845-cd54dfbc2ec2"
      },
      "execution_count": null,
      "outputs": [
        {
          "output_type": "stream",
          "name": "stderr",
          "text": [
            "/usr/local/lib/python3.10/dist-packages/sklearn/preprocessing/_label.py:134: DataConversionWarning: A column-vector y was passed when a 1d array was expected. Please change the shape of y to (n_samples, ), for example using ravel().\n",
            "  y = column_or_1d(y, dtype=self.classes_.dtype, warn=True)\n"
          ]
        },
        {
          "output_type": "execute_result",
          "data": {
            "text/plain": [
              "array([1])"
            ]
          },
          "metadata": {},
          "execution_count": 11
        }
      ]
    },
    {
      "cell_type": "code",
      "source": [
        "leSpecies.inverse_transform(np.array([[1]]))"
      ],
      "metadata": {
        "colab": {
          "base_uri": "https://localhost:8080/"
        },
        "id": "swggwnizrYaB",
        "outputId": "e57babe4-4858-4186-c43b-651b5dfb5d52"
      },
      "execution_count": null,
      "outputs": [
        {
          "output_type": "stream",
          "name": "stderr",
          "text": [
            "/usr/local/lib/python3.10/dist-packages/sklearn/preprocessing/_label.py:155: DataConversionWarning: A column-vector y was passed when a 1d array was expected. Please change the shape of y to (n_samples, ), for example using ravel().\n",
            "  y = column_or_1d(y, warn=True)\n"
          ]
        },
        {
          "output_type": "execute_result",
          "data": {
            "text/plain": [
              "array(['Versicolor'], dtype=object)"
            ]
          },
          "metadata": {},
          "execution_count": 14
        }
      ]
    },
    {
      "cell_type": "code",
      "source": [
        "discreteLabels = discreteLabels.reshape(-1,1)"
      ],
      "metadata": {
        "id": "lW5h4CWGreuy"
      },
      "execution_count": null,
      "outputs": []
    },
    {
      "cell_type": "code",
      "source": [],
      "metadata": {
        "id": "izAY_ag5rt0K"
      },
      "execution_count": null,
      "outputs": []
    },
    {
      "cell_type": "code",
      "source": [
        "#Train Test Split\n",
        "from sklearn.model_selection import train_test_split\n",
        "X_train,X_test,y_train,y_test = train_test_split(features,\n",
        "                                                 discreteLabels,\n",
        "                                                 test_size=0.2,\n",
        "                                                 random_state=10)"
      ],
      "metadata": {
        "id": "TEMW-XNHdtnD"
      },
      "execution_count": null,
      "outputs": []
    },
    {
      "cell_type": "code",
      "source": [
        "#Architecting Model\n",
        "\n",
        "model1 = tf.keras.Sequential()\n",
        "\n",
        "model1.add(tf.keras.layers.Dense(units=6, activation=\"relu\", input_shape=(4,)))\n",
        "model1.add(tf.keras.layers.Dense(units=6, activation=\"relu\"))\n",
        "model1.add(tf.keras.layers.Dense(units=3, activation=\"softmax\"))"
      ],
      "metadata": {
        "id": "XnujCSBXd5fc"
      },
      "execution_count": null,
      "outputs": []
    },
    {
      "cell_type": "code",
      "source": [
        "#Compile Model\n",
        "#\n",
        "# For Classification following loss functions mst be used:\n",
        "# a. For Binary Classification: binary_crossentropy\n",
        "# b. For Multiclass Classifiaction: categorical_crossentropy or sparse_categorical_crossentropy\n",
        "\n",
        "#if label is represented as discrete numerical data ----------- sparse_categorical_crossentropy\n",
        "#if label is represented as a dummy variable ------------------ categorical_crossentropy\n",
        "\n",
        "model1.compile(optimizer='sgd', loss='sparse_categorical_crossentropy', metrics='accuracy')"
      ],
      "metadata": {
        "id": "GbiIn2yyeTPL"
      },
      "execution_count": null,
      "outputs": []
    },
    {
      "cell_type": "code",
      "source": [
        "#Fit the model\n",
        "model1.fit(X_train,y_train, validation_data=(X_test,y_test), epochs=10)"
      ],
      "metadata": {
        "colab": {
          "base_uri": "https://localhost:8080/"
        },
        "id": "QEBdX08Be8t1",
        "outputId": "db63eef8-9a23-4c09-8682-f467429c9d1d"
      },
      "execution_count": null,
      "outputs": [
        {
          "output_type": "stream",
          "name": "stdout",
          "text": [
            "Epoch 1/10\n",
            "4/4 [==============================] - 1s 67ms/step - loss: 1.0524 - accuracy: 0.5833 - val_loss: 0.9655 - val_accuracy: 0.7333\n",
            "Epoch 2/10\n",
            "4/4 [==============================] - 0s 10ms/step - loss: 1.0204 - accuracy: 0.5833 - val_loss: 0.9401 - val_accuracy: 0.7333\n",
            "Epoch 3/10\n",
            "4/4 [==============================] - 0s 10ms/step - loss: 0.9900 - accuracy: 0.5833 - val_loss: 0.9158 - val_accuracy: 0.7333\n",
            "Epoch 4/10\n",
            "4/4 [==============================] - 0s 10ms/step - loss: 0.9616 - accuracy: 0.5833 - val_loss: 0.8935 - val_accuracy: 0.7333\n",
            "Epoch 5/10\n",
            "4/4 [==============================] - 0s 10ms/step - loss: 0.9356 - accuracy: 0.5833 - val_loss: 0.8726 - val_accuracy: 0.7000\n",
            "Epoch 6/10\n",
            "4/4 [==============================] - 0s 10ms/step - loss: 0.9111 - accuracy: 0.5750 - val_loss: 0.8528 - val_accuracy: 0.7000\n",
            "Epoch 7/10\n",
            "4/4 [==============================] - 0s 10ms/step - loss: 0.8883 - accuracy: 0.5750 - val_loss: 0.8342 - val_accuracy: 0.6667\n",
            "Epoch 8/10\n",
            "4/4 [==============================] - 0s 11ms/step - loss: 0.8658 - accuracy: 0.5667 - val_loss: 0.8168 - val_accuracy: 0.6333\n",
            "Epoch 9/10\n",
            "4/4 [==============================] - 0s 12ms/step - loss: 0.8449 - accuracy: 0.5667 - val_loss: 0.8008 - val_accuracy: 0.6000\n",
            "Epoch 10/10\n",
            "4/4 [==============================] - 0s 11ms/step - loss: 0.8259 - accuracy: 0.5333 - val_loss: 0.7855 - val_accuracy: 0.6000\n"
          ]
        },
        {
          "output_type": "execute_result",
          "data": {
            "text/plain": [
              "<keras.src.callbacks.History at 0x7a556db76530>"
            ]
          },
          "metadata": {},
          "execution_count": 37
        }
      ]
    },
    {
      "cell_type": "markdown",
      "source": [
        "# Method 2 --- Using Dummy Variables as Label"
      ],
      "metadata": {
        "id": "3aXlt5R2tqQx"
      }
    },
    {
      "cell_type": "code",
      "source": [
        "from sklearn.preprocessing import OneHotEncoder\n",
        "ohe = OneHotEncoder(sparse=False)\n",
        "oheLabels = ohe.fit_transform(label)"
      ],
      "metadata": {
        "id": "BKWOecyFxDe2"
      },
      "execution_count": null,
      "outputs": []
    },
    {
      "cell_type": "code",
      "source": [
        "#To create dummy variable\n",
        "oheLabels = tf.keras.utils.to_categorical(discreteLabels)\n",
        "oheLabels"
      ],
      "metadata": {
        "colab": {
          "base_uri": "https://localhost:8080/"
        },
        "id": "0ZkHwNXvsWG6",
        "outputId": "c1eebd27-3e47-4abe-c894-f855fccf67ff"
      },
      "execution_count": null,
      "outputs": [
        {
          "output_type": "execute_result",
          "data": {
            "text/plain": [
              "array([[1., 0., 0.],\n",
              "       [1., 0., 0.],\n",
              "       [1., 0., 0.],\n",
              "       [1., 0., 0.],\n",
              "       [1., 0., 0.],\n",
              "       [1., 0., 0.],\n",
              "       [1., 0., 0.],\n",
              "       [1., 0., 0.],\n",
              "       [1., 0., 0.],\n",
              "       [1., 0., 0.],\n",
              "       [1., 0., 0.],\n",
              "       [1., 0., 0.],\n",
              "       [1., 0., 0.],\n",
              "       [1., 0., 0.],\n",
              "       [1., 0., 0.],\n",
              "       [1., 0., 0.],\n",
              "       [1., 0., 0.],\n",
              "       [1., 0., 0.],\n",
              "       [1., 0., 0.],\n",
              "       [1., 0., 0.],\n",
              "       [1., 0., 0.],\n",
              "       [1., 0., 0.],\n",
              "       [1., 0., 0.],\n",
              "       [1., 0., 0.],\n",
              "       [1., 0., 0.],\n",
              "       [1., 0., 0.],\n",
              "       [1., 0., 0.],\n",
              "       [1., 0., 0.],\n",
              "       [1., 0., 0.],\n",
              "       [1., 0., 0.],\n",
              "       [1., 0., 0.],\n",
              "       [1., 0., 0.],\n",
              "       [1., 0., 0.],\n",
              "       [1., 0., 0.],\n",
              "       [1., 0., 0.],\n",
              "       [1., 0., 0.],\n",
              "       [1., 0., 0.],\n",
              "       [1., 0., 0.],\n",
              "       [1., 0., 0.],\n",
              "       [1., 0., 0.],\n",
              "       [1., 0., 0.],\n",
              "       [1., 0., 0.],\n",
              "       [1., 0., 0.],\n",
              "       [1., 0., 0.],\n",
              "       [1., 0., 0.],\n",
              "       [1., 0., 0.],\n",
              "       [1., 0., 0.],\n",
              "       [1., 0., 0.],\n",
              "       [1., 0., 0.],\n",
              "       [1., 0., 0.],\n",
              "       [0., 1., 0.],\n",
              "       [0., 1., 0.],\n",
              "       [0., 1., 0.],\n",
              "       [0., 1., 0.],\n",
              "       [0., 1., 0.],\n",
              "       [0., 1., 0.],\n",
              "       [0., 1., 0.],\n",
              "       [0., 1., 0.],\n",
              "       [0., 1., 0.],\n",
              "       [0., 1., 0.],\n",
              "       [0., 1., 0.],\n",
              "       [0., 1., 0.],\n",
              "       [0., 1., 0.],\n",
              "       [0., 1., 0.],\n",
              "       [0., 1., 0.],\n",
              "       [0., 1., 0.],\n",
              "       [0., 1., 0.],\n",
              "       [0., 1., 0.],\n",
              "       [0., 1., 0.],\n",
              "       [0., 1., 0.],\n",
              "       [0., 1., 0.],\n",
              "       [0., 1., 0.],\n",
              "       [0., 1., 0.],\n",
              "       [0., 1., 0.],\n",
              "       [0., 1., 0.],\n",
              "       [0., 1., 0.],\n",
              "       [0., 1., 0.],\n",
              "       [0., 1., 0.],\n",
              "       [0., 1., 0.],\n",
              "       [0., 1., 0.],\n",
              "       [0., 1., 0.],\n",
              "       [0., 1., 0.],\n",
              "       [0., 1., 0.],\n",
              "       [0., 1., 0.],\n",
              "       [0., 1., 0.],\n",
              "       [0., 1., 0.],\n",
              "       [0., 1., 0.],\n",
              "       [0., 1., 0.],\n",
              "       [0., 1., 0.],\n",
              "       [0., 1., 0.],\n",
              "       [0., 1., 0.],\n",
              "       [0., 1., 0.],\n",
              "       [0., 1., 0.],\n",
              "       [0., 1., 0.],\n",
              "       [0., 1., 0.],\n",
              "       [0., 1., 0.],\n",
              "       [0., 1., 0.],\n",
              "       [0., 1., 0.],\n",
              "       [0., 1., 0.],\n",
              "       [0., 1., 0.],\n",
              "       [0., 0., 1.],\n",
              "       [0., 0., 1.],\n",
              "       [0., 0., 1.],\n",
              "       [0., 0., 1.],\n",
              "       [0., 0., 1.],\n",
              "       [0., 0., 1.],\n",
              "       [0., 0., 1.],\n",
              "       [0., 0., 1.],\n",
              "       [0., 0., 1.],\n",
              "       [0., 0., 1.],\n",
              "       [0., 0., 1.],\n",
              "       [0., 0., 1.],\n",
              "       [0., 0., 1.],\n",
              "       [0., 0., 1.],\n",
              "       [0., 0., 1.],\n",
              "       [0., 0., 1.],\n",
              "       [0., 0., 1.],\n",
              "       [0., 0., 1.],\n",
              "       [0., 0., 1.],\n",
              "       [0., 0., 1.],\n",
              "       [0., 0., 1.],\n",
              "       [0., 0., 1.],\n",
              "       [0., 0., 1.],\n",
              "       [0., 0., 1.],\n",
              "       [0., 0., 1.],\n",
              "       [0., 0., 1.],\n",
              "       [0., 0., 1.],\n",
              "       [0., 0., 1.],\n",
              "       [0., 0., 1.],\n",
              "       [0., 0., 1.],\n",
              "       [0., 0., 1.],\n",
              "       [0., 0., 1.],\n",
              "       [0., 0., 1.],\n",
              "       [0., 0., 1.],\n",
              "       [0., 0., 1.],\n",
              "       [0., 0., 1.],\n",
              "       [0., 0., 1.],\n",
              "       [0., 0., 1.],\n",
              "       [0., 0., 1.],\n",
              "       [0., 0., 1.],\n",
              "       [0., 0., 1.],\n",
              "       [0., 0., 1.],\n",
              "       [0., 0., 1.],\n",
              "       [0., 0., 1.],\n",
              "       [0., 0., 1.],\n",
              "       [0., 0., 1.],\n",
              "       [0., 0., 1.],\n",
              "       [0., 0., 1.],\n",
              "       [0., 0., 1.],\n",
              "       [0., 0., 1.]], dtype=float32)"
            ]
          },
          "metadata": {},
          "execution_count": 38
        }
      ]
    },
    {
      "cell_type": "code",
      "source": [],
      "metadata": {
        "id": "t6sNuQBGt6_U"
      },
      "execution_count": null,
      "outputs": []
    },
    {
      "cell_type": "code",
      "source": [
        "#Train Test Split\n",
        "from sklearn.model_selection import train_test_split\n",
        "X_train,X_test,y_train,y_test = train_test_split(features,\n",
        "                                                 oheLabels,\n",
        "                                                 test_size=0.2,\n",
        "                                                 random_state=10)"
      ],
      "metadata": {
        "id": "ddsl3ds-uF6d"
      },
      "execution_count": null,
      "outputs": []
    },
    {
      "cell_type": "code",
      "source": [
        "#Architecting Model\n",
        "\n",
        "model1 = tf.keras.Sequential()\n",
        "\n",
        "model1.add(tf.keras.layers.Dense(units=6, activation=\"relu\", input_shape=(4,)))\n",
        "model1.add(tf.keras.layers.Dense(units=6, activation=\"relu\"))\n",
        "model1.add(tf.keras.layers.Dense(units=3, activation=\"softmax\"))"
      ],
      "metadata": {
        "id": "EkpfBjU8uF6e"
      },
      "execution_count": null,
      "outputs": []
    },
    {
      "cell_type": "code",
      "source": [
        "#Compile Model\n",
        "#\n",
        "# For Classification following loss functions mst be used:\n",
        "# a. For Binary Classification: binary_crossentropy\n",
        "# b. For Multiclass Classifiaction: categorical_crossentropy or sparse_categorical_crossentropy\n",
        "\n",
        "#if label is represented as discrete numerical data ----------- sparse_categorical_crossentropy\n",
        "#if label is represented as a dummy variable ------------------ categorical_crossentropy\n",
        "\n",
        "model1.compile(optimizer='sgd', loss='categorical_crossentropy', metrics='accuracy')"
      ],
      "metadata": {
        "id": "cigaAIcbuF6e"
      },
      "execution_count": null,
      "outputs": []
    },
    {
      "cell_type": "code",
      "source": [
        "#Fit the model\n",
        "model1.fit(X_train,y_train, validation_data=(X_test,y_test), epochs=10)"
      ],
      "metadata": {
        "colab": {
          "base_uri": "https://localhost:8080/"
        },
        "outputId": "dc9b7cee-0709-4ec9-ab75-38c10207107e",
        "id": "2DFc1_pcuF6e"
      },
      "execution_count": null,
      "outputs": [
        {
          "output_type": "stream",
          "name": "stdout",
          "text": [
            "Epoch 1/10\n",
            "4/4 [==============================] - 1s 68ms/step - loss: 1.2130 - accuracy: 0.3750 - val_loss: 1.1283 - val_accuracy: 0.4333\n",
            "Epoch 2/10\n",
            "4/4 [==============================] - 0s 13ms/step - loss: 1.1861 - accuracy: 0.4000 - val_loss: 1.1157 - val_accuracy: 0.4333\n",
            "Epoch 3/10\n",
            "4/4 [==============================] - 0s 13ms/step - loss: 1.1656 - accuracy: 0.4083 - val_loss: 1.1055 - val_accuracy: 0.3667\n",
            "Epoch 4/10\n",
            "4/4 [==============================] - 0s 10ms/step - loss: 1.1483 - accuracy: 0.3833 - val_loss: 1.0969 - val_accuracy: 0.4333\n",
            "Epoch 5/10\n",
            "4/4 [==============================] - 0s 11ms/step - loss: 1.1352 - accuracy: 0.3750 - val_loss: 1.0892 - val_accuracy: 0.4667\n",
            "Epoch 6/10\n",
            "4/4 [==============================] - 0s 10ms/step - loss: 1.1233 - accuracy: 0.3750 - val_loss: 1.0823 - val_accuracy: 0.3667\n",
            "Epoch 7/10\n",
            "4/4 [==============================] - 0s 10ms/step - loss: 1.1128 - accuracy: 0.4000 - val_loss: 1.0769 - val_accuracy: 0.4333\n",
            "Epoch 8/10\n",
            "4/4 [==============================] - 0s 10ms/step - loss: 1.1028 - accuracy: 0.4250 - val_loss: 1.0716 - val_accuracy: 0.4667\n",
            "Epoch 9/10\n",
            "4/4 [==============================] - 0s 10ms/step - loss: 1.0939 - accuracy: 0.4333 - val_loss: 1.0664 - val_accuracy: 0.4667\n",
            "Epoch 10/10\n",
            "4/4 [==============================] - 0s 9ms/step - loss: 1.0855 - accuracy: 0.4583 - val_loss: 1.0614 - val_accuracy: 0.5000\n"
          ]
        },
        {
          "output_type": "execute_result",
          "data": {
            "text/plain": [
              "<keras.src.callbacks.History at 0x7a556e361e70>"
            ]
          },
          "metadata": {},
          "execution_count": 42
        }
      ]
    }
  ]
}