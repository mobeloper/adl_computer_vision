{
  "cells": [
    {
      "cell_type": "code",
      "execution_count": 24,
      "metadata": {
        "id": "Ljvnuv2Jz54t"
      },
      "outputs": [],
      "source": [
        "# Regression using ANN in PyTorch\n",
        "\n",
        "import pandas as pd\n",
        "import numpy as np\n",
        "import torch\n",
        "import torch.nn as nn\n",
        "import torch.optim as optim\n",
        "from sklearn.model_selection import train_test_split\n",
        "from sklearn.preprocessing import StandardScaler\n",
        "from sklearn.metrics import mean_squared_error, r2_score"
      ]
    },
    {
      "cell_type": "code",
      "execution_count": 25,
      "metadata": {
        "colab": {
          "base_uri": "https://localhost:8080/"
        },
        "id": "rzlOUtoH0YyR",
        "outputId": "2a7aa8c3-a5af-4176-d111-3e9c287cedf9"
      },
      "outputs": [
        {
          "name": "stdout",
          "output_type": "stream",
          "text": [
            "Using device: cpu\n"
          ]
        }
      ],
      "source": [
        "# Set device\n",
        "device = torch.device(\"cuda\" if torch.cuda.is_available() else \"cpu\")\n",
        "print(f\"Using device: {device}\")"
      ]
    },
    {
      "cell_type": "code",
      "execution_count": 26,
      "metadata": {
        "id": "CIBgXXFx0aGd"
      },
      "outputs": [
        {
          "name": "stdout",
          "output_type": "stream",
          "text": [
            "   R&D Spend  Administration  Marketing Spend       State     Profit\n",
            "0  165349.20       136897.80        471784.10    New York  192261.83\n",
            "1  162597.70       151377.59        443898.53  California  191792.06\n",
            "2  153441.51       101145.55        407934.54     Florida  191050.39\n",
            "3  144372.41       118671.85        383199.62    New York  182901.99\n",
            "4  142107.34        91391.77        366168.42     Florida  166187.94\n"
          ]
        }
      ],
      "source": [
        "# Load the dataset\n",
        "df = pd.read_csv('50_Startups.csv')\n",
        "df.dropna(inplace=True)\n",
        "\n",
        "print(df.head())"
      ]
    },
    {
      "cell_type": "code",
      "execution_count": 27,
      "metadata": {},
      "outputs": [
        {
          "name": "stdout",
          "output_type": "stream",
          "text": [
            "<class 'pandas.core.frame.DataFrame'>\n",
            "RangeIndex: 50 entries, 0 to 49\n",
            "Data columns (total 5 columns):\n",
            " #   Column           Non-Null Count  Dtype  \n",
            "---  ------           --------------  -----  \n",
            " 0   R&D Spend        50 non-null     float64\n",
            " 1   Administration   50 non-null     float64\n",
            " 2   Marketing Spend  50 non-null     float64\n",
            " 3   State            50 non-null     object \n",
            " 4   Profit           50 non-null     float64\n",
            "dtypes: float64(4), object(1)\n",
            "memory usage: 2.1+ KB\n"
          ]
        }
      ],
      "source": [
        "\n",
        "df.info()"
      ]
    },
    {
      "cell_type": "code",
      "execution_count": 28,
      "metadata": {},
      "outputs": [
        {
          "data": {
            "text/plain": [
              "Index(['R&D Spend', 'Administration', 'Marketing Spend', 'State', 'Profit'], dtype='object')"
            ]
          },
          "execution_count": 28,
          "metadata": {},
          "output_type": "execute_result"
        }
      ],
      "source": [
        "df.columns"
      ]
    },
    {
      "cell_type": "code",
      "execution_count": 29,
      "metadata": {},
      "outputs": [],
      "source": [
        "# df[[\"State\"]].get_values()"
      ]
    },
    {
      "cell_type": "code",
      "execution_count": 30,
      "metadata": {},
      "outputs": [
        {
          "name": "stdout",
          "output_type": "stream",
          "text": [
            "    R&D Spend  Administration  Marketing Spend     Profit  State_California  \\\n",
            "0   165349.20       136897.80        471784.10  192261.83             False   \n",
            "1   162597.70       151377.59        443898.53  191792.06              True   \n",
            "2   153441.51       101145.55        407934.54  191050.39             False   \n",
            "3   144372.41       118671.85        383199.62  182901.99             False   \n",
            "4   142107.34        91391.77        366168.42  166187.94             False   \n",
            "5   131876.90        99814.71        362861.36  156991.12             False   \n",
            "6   134615.46       147198.87        127716.82  156122.51              True   \n",
            "7   130298.13       145530.06        323876.68  155752.60             False   \n",
            "8   120542.52       148718.95        311613.29  152211.77             False   \n",
            "9   123334.88       108679.17        304981.62  149759.96              True   \n",
            "10  101913.08       110594.11        229160.95  146121.95             False   \n",
            "11  100671.96        91790.61        249744.55  144259.40              True   \n",
            "12   93863.75       127320.38        249839.44  141585.52             False   \n",
            "13   91992.39       135495.07        252664.93  134307.35              True   \n",
            "14  119943.24       156547.42        256512.92  132602.65             False   \n",
            "15  114523.61       122616.84        261776.23  129917.04             False   \n",
            "16   78013.11       121597.55        264346.06  126992.93              True   \n",
            "17   94657.16       145077.58        282574.31  125370.37             False   \n",
            "18   91749.16       114175.79        294919.57  124266.90             False   \n",
            "19   86419.70       153514.11             0.00  122776.86             False   \n",
            "20   76253.86       113867.30        298664.47  118474.03              True   \n",
            "21   78389.47       153773.43        299737.29  111313.02             False   \n",
            "22   73994.56       122782.75        303319.26  110352.25             False   \n",
            "23   67532.53       105751.03        304768.73  108733.99             False   \n",
            "24   77044.01        99281.34        140574.81  108552.04             False   \n",
            "25   64664.71       139553.16        137962.62  107404.34              True   \n",
            "26   75328.87       144135.98        134050.07  105733.54             False   \n",
            "27   72107.60       127864.55        353183.81  105008.31             False   \n",
            "28   66051.52       182645.56        118148.20  103282.38             False   \n",
            "29   65605.48       153032.06        107138.38  101004.64             False   \n",
            "30   61994.48       115641.28         91131.24   99937.59             False   \n",
            "31   61136.38       152701.92         88218.23   97483.56             False   \n",
            "32   63408.86       129219.61         46085.25   97427.84              True   \n",
            "33   55493.95       103057.49        214634.81   96778.92             False   \n",
            "34   46426.07       157693.92        210797.67   96712.80              True   \n",
            "35   46014.02        85047.44        205517.64   96479.51             False   \n",
            "36   28663.76       127056.21        201126.82   90708.19             False   \n",
            "37   44069.95        51283.14        197029.42   89949.14              True   \n",
            "38   20229.59        65947.93        185265.10   81229.06             False   \n",
            "39   38558.51        82982.09        174999.30   81005.76              True   \n",
            "40   28754.33       118546.05        172795.67   78239.91              True   \n",
            "41   27892.92        84710.77        164470.71   77798.83             False   \n",
            "42   23640.93        96189.63        148001.11   71498.49              True   \n",
            "43   15505.73       127382.30         35534.17   69758.98             False   \n",
            "44   22177.74       154806.14         28334.72   65200.33              True   \n",
            "45    1000.23       124153.04          1903.93   64926.08             False   \n",
            "46    1315.46       115816.21        297114.46   49490.75             False   \n",
            "47       0.00       135426.92             0.00   42559.73              True   \n",
            "48     542.05        51743.15             0.00   35673.41             False   \n",
            "49       0.00       116983.80         45173.06   14681.40              True   \n",
            "\n",
            "    State_Florida  State_New York  \n",
            "0           False            True  \n",
            "1           False           False  \n",
            "2            True           False  \n",
            "3           False            True  \n",
            "4            True           False  \n",
            "5           False            True  \n",
            "6           False           False  \n",
            "7            True           False  \n",
            "8           False            True  \n",
            "9           False           False  \n",
            "10           True           False  \n",
            "11          False           False  \n",
            "12           True           False  \n",
            "13          False           False  \n",
            "14           True           False  \n",
            "15          False            True  \n",
            "16          False           False  \n",
            "17          False            True  \n",
            "18           True           False  \n",
            "19          False            True  \n",
            "20          False           False  \n",
            "21          False            True  \n",
            "22           True           False  \n",
            "23           True           False  \n",
            "24          False            True  \n",
            "25          False           False  \n",
            "26           True           False  \n",
            "27          False            True  \n",
            "28           True           False  \n",
            "29          False            True  \n",
            "30           True           False  \n",
            "31          False            True  \n",
            "32          False           False  \n",
            "33           True           False  \n",
            "34          False           False  \n",
            "35          False            True  \n",
            "36           True           False  \n",
            "37          False           False  \n",
            "38          False            True  \n",
            "39          False           False  \n",
            "40          False           False  \n",
            "41           True           False  \n",
            "42          False           False  \n",
            "43          False            True  \n",
            "44          False           False  \n",
            "45          False            True  \n",
            "46           True           False  \n",
            "47          False           False  \n",
            "48          False            True  \n",
            "49          False           False  \n"
          ]
        }
      ],
      "source": [
        "# Perform one-hot encoding\n",
        "data = pd.get_dummies(df, columns=[\"State\"])\n",
        "\n",
        "# Display the encoded DataFrame\n",
        "print(data)"
      ]
    },
    {
      "cell_type": "code",
      "execution_count": 31,
      "metadata": {},
      "outputs": [
        {
          "data": {
            "text/plain": [
              "Index(['R&D Spend', 'Administration', 'Marketing Spend', 'Profit',\n",
              "       'State_California', 'State_Florida', 'State_New York'],\n",
              "      dtype='object')"
            ]
          },
          "execution_count": 31,
          "metadata": {},
          "output_type": "execute_result"
        }
      ],
      "source": [
        "data.columns"
      ]
    },
    {
      "cell_type": "code",
      "execution_count": 32,
      "metadata": {
        "id": "zPicH9r50nP9"
      },
      "outputs": [],
      "source": [
        "# Features and label\n",
        "X = data[['R&D Spend', 'Administration', 'Marketing Spend', 'State_California', 'State_Florida', 'State_New York']].values  # input feature\n",
        "y = data['Profit'].values  # target variable"
      ]
    },
    {
      "cell_type": "code",
      "execution_count": 33,
      "metadata": {},
      "outputs": [
        {
          "data": {
            "text/plain": [
              "array([[165349.2, 136897.8, 471784.1, False, False, True],\n",
              "       [162597.7, 151377.59, 443898.53, True, False, False],\n",
              "       [153441.51, 101145.55, 407934.54, False, True, False],\n",
              "       [144372.41, 118671.85, 383199.62, False, False, True],\n",
              "       [142107.34, 91391.77, 366168.42, False, True, False],\n",
              "       [131876.9, 99814.71, 362861.36, False, False, True],\n",
              "       [134615.46, 147198.87, 127716.82, True, False, False],\n",
              "       [130298.13, 145530.06, 323876.68, False, True, False],\n",
              "       [120542.52, 148718.95, 311613.29, False, False, True],\n",
              "       [123334.88, 108679.17, 304981.62, True, False, False],\n",
              "       [101913.08, 110594.11, 229160.95, False, True, False],\n",
              "       [100671.96, 91790.61, 249744.55, True, False, False],\n",
              "       [93863.75, 127320.38, 249839.44, False, True, False],\n",
              "       [91992.39, 135495.07, 252664.93, True, False, False],\n",
              "       [119943.24, 156547.42, 256512.92, False, True, False],\n",
              "       [114523.61, 122616.84, 261776.23, False, False, True],\n",
              "       [78013.11, 121597.55, 264346.06, True, False, False],\n",
              "       [94657.16, 145077.58, 282574.31, False, False, True],\n",
              "       [91749.16, 114175.79, 294919.57, False, True, False],\n",
              "       [86419.7, 153514.11, 0.0, False, False, True],\n",
              "       [76253.86, 113867.3, 298664.47, True, False, False],\n",
              "       [78389.47, 153773.43, 299737.29, False, False, True],\n",
              "       [73994.56, 122782.75, 303319.26, False, True, False],\n",
              "       [67532.53, 105751.03, 304768.73, False, True, False],\n",
              "       [77044.01, 99281.34, 140574.81, False, False, True],\n",
              "       [64664.71, 139553.16, 137962.62, True, False, False],\n",
              "       [75328.87, 144135.98, 134050.07, False, True, False],\n",
              "       [72107.6, 127864.55, 353183.81, False, False, True],\n",
              "       [66051.52, 182645.56, 118148.2, False, True, False],\n",
              "       [65605.48, 153032.06, 107138.38, False, False, True],\n",
              "       [61994.48, 115641.28, 91131.24, False, True, False],\n",
              "       [61136.38, 152701.92, 88218.23, False, False, True],\n",
              "       [63408.86, 129219.61, 46085.25, True, False, False],\n",
              "       [55493.95, 103057.49, 214634.81, False, True, False],\n",
              "       [46426.07, 157693.92, 210797.67, True, False, False],\n",
              "       [46014.02, 85047.44, 205517.64, False, False, True],\n",
              "       [28663.76, 127056.21, 201126.82, False, True, False],\n",
              "       [44069.95, 51283.14, 197029.42, True, False, False],\n",
              "       [20229.59, 65947.93, 185265.1, False, False, True],\n",
              "       [38558.51, 82982.09, 174999.3, True, False, False],\n",
              "       [28754.33, 118546.05, 172795.67, True, False, False],\n",
              "       [27892.92, 84710.77, 164470.71, False, True, False],\n",
              "       [23640.93, 96189.63, 148001.11, True, False, False],\n",
              "       [15505.73, 127382.3, 35534.17, False, False, True],\n",
              "       [22177.74, 154806.14, 28334.72, True, False, False],\n",
              "       [1000.23, 124153.04, 1903.93, False, False, True],\n",
              "       [1315.46, 115816.21, 297114.46, False, True, False],\n",
              "       [0.0, 135426.92, 0.0, True, False, False],\n",
              "       [542.05, 51743.15, 0.0, False, False, True],\n",
              "       [0.0, 116983.8, 45173.06, True, False, False]], dtype=object)"
            ]
          },
          "execution_count": 33,
          "metadata": {},
          "output_type": "execute_result"
        }
      ],
      "source": [
        "X"
      ]
    },
    {
      "cell_type": "code",
      "execution_count": 34,
      "metadata": {
        "id": "Hcy_gM3B0nnd"
      },
      "outputs": [],
      "source": [
        "# Feature Scaling\n",
        "scaler_X = StandardScaler()\n",
        "scaler_y = StandardScaler()"
      ]
    },
    {
      "cell_type": "code",
      "execution_count": 35,
      "metadata": {
        "id": "-A6scwwb0o0_"
      },
      "outputs": [],
      "source": [
        "X = scaler_X.fit_transform(X)\n",
        "y = scaler_y.fit_transform(y.reshape(-1, 1))  # Reshape y for scaling"
      ]
    },
    {
      "cell_type": "code",
      "execution_count": 36,
      "metadata": {
        "id": "WS77Xpot0qPW"
      },
      "outputs": [],
      "source": [
        "# Convert to tensors\n",
        "X = torch.tensor(X, dtype=torch.float32)\n",
        "y = torch.tensor(y, dtype=torch.float32)"
      ]
    },
    {
      "cell_type": "code",
      "execution_count": 37,
      "metadata": {
        "id": "cJgjS1pa0ryu"
      },
      "outputs": [],
      "source": [
        "# Split into train and test sets\n",
        "X_train, X_test, y_train, y_test = train_test_split(X, y, test_size=0.2, random_state=42)"
      ]
    },
    {
      "cell_type": "code",
      "execution_count": 38,
      "metadata": {
        "id": "J_M2Znr00wB3"
      },
      "outputs": [],
      "source": [
        "\n",
        "# Send data to device\n",
        "X_train, X_test = X_train.to(device), X_test.to(device)\n",
        "y_train, y_test = y_train.to(device), y_test.to(device)"
      ]
    },
    {
      "cell_type": "code",
      "execution_count": 42,
      "metadata": {
        "id": "SQS1Jem-0x3o"
      },
      "outputs": [],
      "source": [
        "# Define a simple ANN model for regression\n",
        "class RegressionANN(nn.Module):\n",
        "    def __init__(self):\n",
        "        super(RegressionANN, self).__init__()\n",
        "        self.model = nn.Sequential(\n",
        "            nn.Linear(6, 20),\n",
        "            nn.ReLU(),\n",
        "            nn.Linear(20, 10),\n",
        "            nn.ReLU(),\n",
        "            nn.Linear(10, 5),\n",
        "            nn.ReLU(),\n",
        "            nn.Linear(5, 1)\n",
        "            \n",
        "            # No output function because we want to take the output as it is without modification of the linear function\n",
        "        )\n",
        "\n",
        "    def forward(self, x):\n",
        "        return self.model(x)"
      ]
    },
    {
      "cell_type": "code",
      "execution_count": 43,
      "metadata": {
        "id": "SGH27cWh0zae"
      },
      "outputs": [],
      "source": [
        "# Instantiate model, loss function and optimizer\n",
        "model = RegressionANN().to(device)\n",
        "criterion = nn.MSELoss()  # Mean Squared Error for regression\n",
        "optimizer = optim.Adam(model.parameters(), lr=0.01)"
      ]
    },
    {
      "cell_type": "code",
      "execution_count": 44,
      "metadata": {
        "colab": {
          "base_uri": "https://localhost:8080/"
        },
        "id": "2e5AYWH201S8",
        "outputId": "8386198d-c4bb-4a79-fef4-73c3327ef996"
      },
      "outputs": [
        {
          "name": "stdout",
          "output_type": "stream",
          "text": [
            "Epoch [10/100], Train Loss: 0.6396, Val Loss: 0.1575, Train R2: 0.4084, Val R2: 0.6903\n",
            "Epoch [20/100], Train Loss: 0.2682, Val Loss: 0.5719, Train R2: 0.7520, Val R2: -0.1245\n",
            "Epoch [30/100], Train Loss: 0.1302, Val Loss: 0.1832, Train R2: 0.8796, Val R2: 0.6398\n",
            "Epoch [40/100], Train Loss: 0.0774, Val Loss: 0.1978, Train R2: 0.9285, Val R2: 0.6111\n",
            "Epoch [50/100], Train Loss: 0.0475, Val Loss: 0.1002, Train R2: 0.9560, Val R2: 0.8030\n",
            "Epoch [60/100], Train Loss: 0.0343, Val Loss: 0.0522, Train R2: 0.9683, Val R2: 0.8974\n",
            "Epoch [70/100], Train Loss: 0.0282, Val Loss: 0.0582, Train R2: 0.9739, Val R2: 0.8857\n",
            "Epoch [80/100], Train Loss: 0.0236, Val Loss: 0.0689, Train R2: 0.9782, Val R2: 0.8645\n",
            "Epoch [90/100], Train Loss: 0.0199, Val Loss: 0.0721, Train R2: 0.9816, Val R2: 0.8582\n",
            "Epoch [100/100], Train Loss: 0.0169, Val Loss: 0.0810, Train R2: 0.9844, Val R2: 0.8407\n"
          ]
        }
      ],
      "source": [
        "# Training loop\n",
        "n_epochs = 100\n",
        "for epoch in range(n_epochs):\n",
        "    model.train()\n",
        "    optimizer.zero_grad()\n",
        "    outputs = model(X_train)\n",
        "    loss = criterion(outputs, y_train)\n",
        "    loss.backward()\n",
        "    optimizer.step()\n",
        "\n",
        "    # Calculate training R2 Score\n",
        "    with torch.no_grad():\n",
        "        train_preds = scaler_y.inverse_transform(outputs.cpu().numpy())\n",
        "        y_train_actual = scaler_y.inverse_transform(y_train.cpu().numpy())\n",
        "        train_r2 = r2_score(y_train_actual, train_preds)\n",
        "\n",
        "    # Evaluation on validation set\n",
        "    model.eval()\n",
        "    with torch.no_grad():\n",
        "        val_outputs = model(X_test)\n",
        "        val_loss = criterion(val_outputs, y_test)\n",
        "\n",
        "        val_preds = scaler_y.inverse_transform(val_outputs.cpu().numpy())\n",
        "        y_val_actual = scaler_y.inverse_transform(y_test.cpu().numpy())\n",
        "        val_r2 = r2_score(y_val_actual, val_preds)\n",
        "\n",
        "    if (epoch + 1) % 10 == 0:\n",
        "        print(f\"Epoch [{epoch+1}/{n_epochs}], Train Loss: {loss.item():.4f}, Val Loss: {val_loss.item():.4f}, Train R2: {train_r2:.4f}, Val R2: {val_r2:.4f}\")\n"
      ]
    },
    {
      "cell_type": "code",
      "execution_count": null,
      "metadata": {
        "id": "oDL5twaL04z4"
      },
      "outputs": [
        {
          "name": "stdout",
          "output_type": "stream",
          "text": [
            "[[134429.23 ]\n",
            " [ 85303.05 ]\n",
            " [106222.55 ]\n",
            " [ 55579.703]\n",
            " [121513.555]\n",
            " [ 65073.992]\n",
            " [108769.16 ]\n",
            " [111240.88 ]\n",
            " [105971.21 ]\n",
            " [109801.8  ]]  :  [[134307.34 ]\n",
            " [ 81005.76 ]\n",
            " [ 99937.586]\n",
            " [ 64926.082]\n",
            " [125370.37 ]\n",
            " [ 35673.414]\n",
            " [105733.54 ]\n",
            " [107404.34 ]\n",
            " [ 97427.836]\n",
            " [122776.86 ]]\n"
          ]
        }
      ],
      "source": [
        "# Final evaluation\n",
        "model.eval()\n",
        "with torch.no_grad():\n",
        "    predictions = model(X_test)\n",
        "    predictions = predictions.cpu().numpy()\n",
        "    y_test_np = y_test.cpu().numpy()\n",
        "\n",
        "    # Inverse scaling\n",
        "    predictions = scaler_y.inverse_transform(predictions)\n",
        "    y_actual = scaler_y.inverse_transform(y_test_np)\n",
        "\n",
        "    mse = mean_squared_error(y_actual, predictions)\n",
        "    r2 = r2_score(y_actual, predictions)\n",
        "    "
      ]
    },
    {
      "cell_type": "code",
      "execution_count": 46,
      "metadata": {
        "colab": {
          "base_uri": "https://localhost:8080/"
        },
        "id": "KnA6VUGG06-l",
        "outputId": "ab5665ea-3832-464a-fd24-914a976c2c4e"
      },
      "outputs": [
        {
          "name": "stdout",
          "output_type": "stream",
          "text": [
            "\n",
            "Test MSE: 128988160.0\n",
            "R2 Score: 0.8407144510036823\n"
          ]
        }
      ],
      "source": [
        "print(\"\\nTest MSE:\", mse)\n",
        "print(\"R2 Score:\", r2)"
      ]
    }
  ],
  "metadata": {
    "colab": {
      "provenance": []
    },
    "kernelspec": {
      "display_name": "ipykernel_py3",
      "language": "python",
      "name": "python3"
    },
    "language_info": {
      "codemirror_mode": {
        "name": "ipython",
        "version": 3
      },
      "file_extension": ".py",
      "mimetype": "text/x-python",
      "name": "python",
      "nbconvert_exporter": "python",
      "pygments_lexer": "ipython3",
      "version": "3.12.2"
    }
  },
  "nbformat": 4,
  "nbformat_minor": 0
}
