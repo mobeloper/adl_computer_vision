{
  "cells": [
    {
      "cell_type": "code",
      "execution_count": 1,
      "metadata": {
        "id": "Ljvnuv2Jz54t"
      },
      "outputs": [],
      "source": [
        "# Regression using ANN in PyTorch\n",
        "\n",
        "import pandas as pd\n",
        "import numpy as np\n",
        "import torch\n",
        "import torch.nn as nn\n",
        "import torch.optim as optim\n",
        "from sklearn.model_selection import train_test_split\n",
        "from sklearn.preprocessing import StandardScaler\n",
        "from sklearn.metrics import mean_squared_error, r2_score"
      ]
    },
    {
      "cell_type": "code",
      "execution_count": 2,
      "metadata": {
        "colab": {
          "base_uri": "https://localhost:8080/"
        },
        "id": "rzlOUtoH0YyR",
        "outputId": "2a7aa8c3-a5af-4176-d111-3e9c287cedf9"
      },
      "outputs": [
        {
          "name": "stdout",
          "output_type": "stream",
          "text": [
            "Using device: cpu\n"
          ]
        }
      ],
      "source": [
        "# Set device\n",
        "device = torch.device(\"cuda\" if torch.cuda.is_available() else \"cpu\")\n",
        "print(f\"Using device: {device}\")"
      ]
    },
    {
      "cell_type": "code",
      "execution_count": 4,
      "metadata": {
        "id": "CIBgXXFx0aGd"
      },
      "outputs": [],
      "source": [
        "# Load the dataset\n",
        "data = pd.read_csv(\"Salary_Data.csv\")\n",
        "data.dropna(inplace=True)"
      ]
    },
    {
      "cell_type": "code",
      "execution_count": 5,
      "metadata": {
        "id": "zPicH9r50nP9"
      },
      "outputs": [],
      "source": [
        "# Features and label\n",
        "X = data[['YearsExperience']].values  # input feature\n",
        "y = data['Salary'].values  # target variable"
      ]
    },
    {
      "cell_type": "code",
      "execution_count": 6,
      "metadata": {
        "id": "Hcy_gM3B0nnd"
      },
      "outputs": [],
      "source": [
        "# Feature Scaling\n",
        "scaler_X = StandardScaler()\n",
        "scaler_y = StandardScaler()"
      ]
    },
    {
      "cell_type": "code",
      "execution_count": 7,
      "metadata": {
        "id": "-A6scwwb0o0_"
      },
      "outputs": [],
      "source": [
        "X = scaler_X.fit_transform(X)\n",
        "y = scaler_y.fit_transform(y.reshape(-1, 1))  # Reshape y for scaling"
      ]
    },
    {
      "cell_type": "code",
      "execution_count": 8,
      "metadata": {
        "id": "WS77Xpot0qPW"
      },
      "outputs": [],
      "source": [
        "# Convert to tensors\n",
        "X = torch.tensor(X, dtype=torch.float32)\n",
        "y = torch.tensor(y, dtype=torch.float32)"
      ]
    },
    {
      "cell_type": "code",
      "execution_count": 9,
      "metadata": {
        "id": "cJgjS1pa0ryu"
      },
      "outputs": [],
      "source": [
        "# Split into train and test sets\n",
        "X_train, X_test, y_train, y_test = train_test_split(X, y, test_size=0.2, random_state=42)"
      ]
    },
    {
      "cell_type": "code",
      "execution_count": 10,
      "metadata": {
        "id": "J_M2Znr00wB3"
      },
      "outputs": [],
      "source": [
        "\n",
        "# Send data to device\n",
        "X_train, X_test = X_train.to(device), X_test.to(device)\n",
        "y_train, y_test = y_train.to(device), y_test.to(device)"
      ]
    },
    {
      "cell_type": "code",
      "execution_count": null,
      "metadata": {
        "id": "SQS1Jem-0x3o"
      },
      "outputs": [],
      "source": [
        "# Define a simple ANN model for regression\n",
        "class RegressionANN(nn.Module):\n",
        "    def __init__(self):\n",
        "        super(RegressionANN, self).__init__()\n",
        "        self.model = nn.Sequential(\n",
        "            nn.Linear(1, 10),\n",
        "            nn.ReLU(),\n",
        "            nn.Linear(10, 5),\n",
        "            nn.ReLU(),\n",
        "            nn.Linear(5, 1)\n",
        "            \n",
        "            # No output function because we want to take the output as it is without modification of the linear function\n",
        "        )\n",
        "\n",
        "    def forward(self, x):\n",
        "        return self.model(x)"
      ]
    },
    {
      "cell_type": "code",
      "execution_count": 16,
      "metadata": {
        "id": "SGH27cWh0zae"
      },
      "outputs": [],
      "source": [
        "# Instantiate model, loss function and optimizer\n",
        "model = RegressionANN().to(device)\n",
        "criterion = nn.MSELoss()  # Mean Squared Error for regression\n",
        "optimizer = optim.Adam(model.parameters(), lr=0.01)"
      ]
    },
    {
      "cell_type": "code",
      "execution_count": 17,
      "metadata": {
        "colab": {
          "base_uri": "https://localhost:8080/"
        },
        "id": "2e5AYWH201S8",
        "outputId": "8386198d-c4bb-4a79-fef4-73c3327ef996"
      },
      "outputs": [
        {
          "name": "stdout",
          "output_type": "stream",
          "text": [
            "Epoch [10/100], Train Loss: 0.6674, Val Loss: 0.4436, Train R2: 0.3656, Val R2: 0.3691\n",
            "Epoch [20/100], Train Loss: 0.2173, Val Loss: 0.1019, Train R2: 0.7935, Val R2: 0.8551\n",
            "Epoch [30/100], Train Loss: 0.0368, Val Loss: 0.0795, Train R2: 0.9650, Val R2: 0.8869\n",
            "Epoch [40/100], Train Loss: 0.0508, Val Loss: 0.1278, Train R2: 0.9517, Val R2: 0.8182\n",
            "Epoch [50/100], Train Loss: 0.0273, Val Loss: 0.0675, Train R2: 0.9740, Val R2: 0.9040\n",
            "Epoch [60/100], Train Loss: 0.0273, Val Loss: 0.0618, Train R2: 0.9741, Val R2: 0.9121\n",
            "Epoch [70/100], Train Loss: 0.0237, Val Loss: 0.0770, Train R2: 0.9775, Val R2: 0.8904\n",
            "Epoch [80/100], Train Loss: 0.0230, Val Loss: 0.0701, Train R2: 0.9781, Val R2: 0.9003\n",
            "Epoch [90/100], Train Loss: 0.0226, Val Loss: 0.0682, Train R2: 0.9785, Val R2: 0.9030\n",
            "Epoch [100/100], Train Loss: 0.0221, Val Loss: 0.0716, Train R2: 0.9790, Val R2: 0.8982\n"
          ]
        }
      ],
      "source": [
        "# Training loop\n",
        "n_epochs = 100\n",
        "for epoch in range(n_epochs):\n",
        "    model.train()\n",
        "    optimizer.zero_grad()\n",
        "    outputs = model(X_train)\n",
        "    loss = criterion(outputs, y_train)\n",
        "    loss.backward()\n",
        "    optimizer.step()\n",
        "\n",
        "    # Calculate training R2 Score\n",
        "    with torch.no_grad():\n",
        "        train_preds = scaler_y.inverse_transform(outputs.cpu().numpy())\n",
        "        y_train_actual = scaler_y.inverse_transform(y_train.cpu().numpy())\n",
        "        train_r2 = r2_score(y_train_actual, train_preds)\n",
        "\n",
        "    # Evaluation on validation set\n",
        "    model.eval()\n",
        "    with torch.no_grad():\n",
        "        val_outputs = model(X_test)\n",
        "        val_loss = criterion(val_outputs, y_test)\n",
        "\n",
        "        val_preds = scaler_y.inverse_transform(val_outputs.cpu().numpy())\n",
        "        y_val_actual = scaler_y.inverse_transform(y_test.cpu().numpy())\n",
        "        val_r2 = r2_score(y_val_actual, val_preds)\n",
        "\n",
        "    if (epoch + 1) % 10 == 0:\n",
        "        print(f\"Epoch [{epoch+1}/{n_epochs}], Train Loss: {loss.item():.4f}, Val Loss: {val_loss.item():.4f}, Train R2: {train_r2:.4f}, Val R2: {val_r2:.4f}\")\n"
      ]
    },
    {
      "cell_type": "code",
      "execution_count": 18,
      "metadata": {
        "id": "oDL5twaL04z4"
      },
      "outputs": [],
      "source": [
        "# Final evaluation\n",
        "model.eval()\n",
        "with torch.no_grad():\n",
        "    predictions = model(X_test)\n",
        "    predictions = predictions.cpu().numpy()\n",
        "    y_test_np = y_test.cpu().numpy()\n",
        "\n",
        "    # Inverse scaling\n",
        "    predictions = scaler_y.inverse_transform(predictions)\n",
        "    y_actual = scaler_y.inverse_transform(y_test_np)\n",
        "\n",
        "    mse = mean_squared_error(y_actual, predictions)\n",
        "    r2 = r2_score(y_actual, predictions)"
      ]
    },
    {
      "cell_type": "code",
      "execution_count": 19,
      "metadata": {
        "colab": {
          "base_uri": "https://localhost:8080/"
        },
        "id": "KnA6VUGG06-l",
        "outputId": "ab5665ea-3832-464a-fd24-914a976c2c4e"
      },
      "outputs": [
        {
          "name": "stdout",
          "output_type": "stream",
          "text": [
            "\n",
            "Test MSE: 51999216.0\n",
            "R2 Score: 0.8981996178627014\n"
          ]
        }
      ],
      "source": [
        "print(\"\\nTest MSE:\", mse)\n",
        "print(\"R2 Score:\", r2)"
      ]
    }
  ],
  "metadata": {
    "colab": {
      "provenance": []
    },
    "kernelspec": {
      "display_name": "Python 3",
      "name": "python3"
    },
    "language_info": {
      "name": "python"
    }
  },
  "nbformat": 4,
  "nbformat_minor": 0
}
