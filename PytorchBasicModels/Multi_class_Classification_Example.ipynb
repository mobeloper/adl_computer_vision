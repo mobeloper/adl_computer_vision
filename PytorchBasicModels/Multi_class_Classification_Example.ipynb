{
  "cells": [
    {
      "cell_type": "code",
      "execution_count": 1,
      "metadata": {
        "id": "EqYCXhd_x_jI"
      },
      "outputs": [],
      "source": [
        "# Multi-Class Classification on Iris Dataset using PyTorch\n",
        "\n",
        "import pandas as pd\n",
        "import numpy as np\n",
        "import torch\n",
        "import torch.nn as nn\n",
        "import torch.optim as optim\n",
        "from sklearn.model_selection import train_test_split\n",
        "from sklearn.preprocessing import StandardScaler, LabelEncoder\n",
        "from sklearn.metrics import accuracy_score, confusion_matrix"
      ]
    },
    {
      "cell_type": "code",
      "execution_count": 2,
      "metadata": {
        "colab": {
          "base_uri": "https://localhost:8080/"
        },
        "id": "gBosJrNdyFX1",
        "outputId": "0ff29779-e94e-4b39-e312-76d7a4e3080a"
      },
      "outputs": [
        {
          "name": "stdout",
          "output_type": "stream",
          "text": [
            "Using device: cpu\n"
          ]
        }
      ],
      "source": [
        "# Set device\n",
        "device = torch.device(\"cuda\" if torch.cuda.is_available() else \"cpu\")\n",
        "print(f\"Using device: {device}\")"
      ]
    },
    {
      "cell_type": "code",
      "execution_count": 3,
      "metadata": {
        "id": "dHvauQ9gyG3C"
      },
      "outputs": [],
      "source": [
        "\n",
        "# Load Iris dataset from URL\n",
        "data = pd.read_csv(\"https://gist.githubusercontent.com/netj/8836201/raw/6f9306ad21398ea43cba4f7d537619d0e07d5ae3/iris.csv\")\n"
      ]
    },
    {
      "cell_type": "code",
      "execution_count": 4,
      "metadata": {
        "id": "P8pFDTmiyIsh"
      },
      "outputs": [],
      "source": [
        "# Encode target labels as integers\n",
        "le = LabelEncoder()\n",
        "data['variety'] = le.fit_transform(data['variety'])  # setosa=0, versicolor=1, virginica=2"
      ]
    },
    {
      "cell_type": "code",
      "execution_count": 5,
      "metadata": {
        "id": "UyKNrcjeyKaA"
      },
      "outputs": [],
      "source": [
        "# Features and labels\n",
        "X = data.drop('variety', axis=1).values\n",
        "y = data['variety'].values\n"
      ]
    },
    {
      "cell_type": "code",
      "execution_count": 6,
      "metadata": {
        "id": "TkQ3FQEUyMbR"
      },
      "outputs": [],
      "source": [
        "# Scale features\n",
        "scaler = StandardScaler()\n",
        "X = scaler.fit_transform(X)"
      ]
    },
    {
      "cell_type": "code",
      "execution_count": null,
      "metadata": {
        "id": "tCvEMathyNxC"
      },
      "outputs": [],
      "source": [
        "# Convert to PyTorch tensors\n",
        "X = torch.tensor(X, dtype=torch.float32)\n",
        "y = torch.tensor(y, dtype=torch.long)  # ALWAYS use long for multi-class classification"
      ]
    },
    {
      "cell_type": "code",
      "execution_count": 8,
      "metadata": {
        "id": "IGoRHtqCyPVC"
      },
      "outputs": [],
      "source": [
        "# Split into train and test sets\n",
        "X_train, X_test, y_train, y_test = train_test_split(X, y, test_size=0.25, random_state=42)"
      ]
    },
    {
      "cell_type": "code",
      "execution_count": 9,
      "metadata": {
        "id": "TvBqT6p-yUJA"
      },
      "outputs": [],
      "source": [
        "# Send data to device\n",
        "X_train, X_test = X_train.to(device), X_test.to(device)\n",
        "y_train, y_test = y_train.to(device), y_test.to(device)"
      ]
    },
    {
      "cell_type": "code",
      "execution_count": null,
      "metadata": {
        "id": "Es6xnkX_yVm6"
      },
      "outputs": [],
      "source": [
        "# Define a simple feedforward neural network\n",
        "class IrisNet(nn.Module):\n",
        "    def __init__(self):\n",
        "        super(IrisNet, self).__init__()\n",
        "        self.network = nn.Sequential(\n",
        "            nn.Linear(4, 10),  # input layer\n",
        "            nn.ReLU(),\n",
        "            nn.Linear(10, 6),  # hidden layer\n",
        "            nn.ReLU(),\n",
        "            nn.Linear(6, 3)    # output layer for 3 classes\n",
        "            \n",
        "                    # We don't have Softmax here because CrossEntropyLoss() includes this in the loss evaluation function\n",
        "        )\n",
        "\n",
        "    def forward(self, x):\n",
        "        return self.network(x)"
      ]
    },
    {
      "cell_type": "code",
      "execution_count": null,
      "metadata": {
        "id": "4qgXWmeoyXbh"
      },
      "outputs": [],
      "source": [
        "# Instantiate model, loss function and optimizer\n",
        "model = IrisNet().to(device)\n",
        "criterion = nn.CrossEntropyLoss()  # for multi-class classification, this already includes Softmax output function\n",
        "optimizer = optim.Adam(model.parameters(), lr=0.01)"
      ]
    },
    {
      "cell_type": "code",
      "execution_count": 12,
      "metadata": {
        "colab": {
          "base_uri": "https://localhost:8080/"
        },
        "id": "iW4lamXkyY3p",
        "outputId": "61383f65-244b-44fb-a5f9-1689e297a6f6"
      },
      "outputs": [
        {
          "name": "stdout",
          "output_type": "stream",
          "text": [
            "Epoch [10/100], Loss: 0.9282, Val Loss: 0.8584, Train Acc: 0.5000, Val Acc: 0.6842\n",
            "Epoch [20/100], Loss: 0.6374, Val Loss: 0.5350, Train Acc: 0.8482, Val Acc: 0.8421\n",
            "Epoch [30/100], Loss: 0.4343, Val Loss: 0.3503, Train Acc: 0.8661, Val Acc: 0.8684\n",
            "Epoch [40/100], Loss: 0.2930, Val Loss: 0.2202, Train Acc: 0.9196, Val Acc: 0.9474\n",
            "Epoch [50/100], Loss: 0.1909, Val Loss: 0.1317, Train Acc: 0.9286, Val Acc: 0.9737\n",
            "Epoch [60/100], Loss: 0.1222, Val Loss: 0.0738, Train Acc: 0.9643, Val Acc: 1.0000\n",
            "Epoch [70/100], Loss: 0.0872, Val Loss: 0.0477, Train Acc: 0.9643, Val Acc: 1.0000\n",
            "Epoch [80/100], Loss: 0.0704, Val Loss: 0.0347, Train Acc: 0.9732, Val Acc: 1.0000\n",
            "Epoch [90/100], Loss: 0.0622, Val Loss: 0.0276, Train Acc: 0.9732, Val Acc: 1.0000\n",
            "Epoch [100/100], Loss: 0.0571, Val Loss: 0.0217, Train Acc: 0.9821, Val Acc: 1.0000\n"
          ]
        }
      ],
      "source": [
        "# Training loop\n",
        "n_epochs = 100\n",
        "for epoch in range(n_epochs):\n",
        "    model.train()\n",
        "    optimizer.zero_grad()\n",
        "    outputs = model(X_train)  # raw logits\n",
        "    loss = criterion(outputs, y_train)\n",
        "    loss.backward()\n",
        "    optimizer.step()\n",
        "\n",
        "    # Compute training accuracy\n",
        "    _, predicted_train = torch.max(outputs, 1)\n",
        "    train_acc = accuracy_score(y_train.cpu(), predicted_train.cpu())\n",
        "\n",
        "    # Validation accuracy and loss\n",
        "    model.eval()\n",
        "    with torch.no_grad():\n",
        "        val_outputs = model(X_test)\n",
        "        val_loss = criterion(val_outputs, y_test)\n",
        "        _, predicted_val = torch.max(val_outputs, 1)\n",
        "        val_acc = accuracy_score(y_test.cpu(), predicted_val.cpu())\n",
        "\n",
        "    if (epoch + 1) % 10 == 0:\n",
        "        print(f\"Epoch [{epoch+1}/{n_epochs}], Loss: {loss.item():.4f}, Val Loss: {val_loss.item():.4f}, Train Acc: {train_acc:.4f}, Val Acc: {val_acc:.4f}\")\n"
      ]
    },
    {
      "cell_type": "code",
      "execution_count": 13,
      "metadata": {
        "id": "G6hqPlA6ymIJ"
      },
      "outputs": [],
      "source": [
        "# Final evaluation\n",
        "model.eval()\n",
        "with torch.no_grad():\n",
        "    final_outputs = model(X_test)\n",
        "    _, final_pred = torch.max(final_outputs, 1)\n",
        "    acc = accuracy_score(y_test.cpu(), final_pred.cpu())\n",
        "    cm = confusion_matrix(y_test.cpu(), final_pred.cpu())\n"
      ]
    },
    {
      "cell_type": "code",
      "execution_count": 14,
      "metadata": {
        "colab": {
          "base_uri": "https://localhost:8080/"
        },
        "id": "DKMVzP2_ynIQ",
        "outputId": "8c8b5113-89ea-44f2-937e-cb6d5ca7047c"
      },
      "outputs": [
        {
          "name": "stdout",
          "output_type": "stream",
          "text": [
            "\n",
            "Test Accuracy: 1.0\n",
            "Confusion Matrix:\n",
            " [[15  0  0]\n",
            " [ 0 11  0]\n",
            " [ 0  0 12]]\n"
          ]
        }
      ],
      "source": [
        "\n",
        "print(\"\\nTest Accuracy:\", acc)\n",
        "print(\"Confusion Matrix:\\n\", cm)"
      ]
    }
  ],
  "metadata": {
    "colab": {
      "provenance": []
    },
    "kernelspec": {
      "display_name": "Python 3",
      "name": "python3"
    },
    "language_info": {
      "name": "python"
    }
  },
  "nbformat": 4,
  "nbformat_minor": 0
}
