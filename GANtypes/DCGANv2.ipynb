{
 "cells": [
  {
   "cell_type": "code",
   "execution_count": null,
   "metadata": {
    "colab": {
     "base_uri": "https://localhost:8080/"
    },
    "executionInfo": {
     "elapsed": 26359,
     "status": "ok",
     "timestamp": 1744824056014,
     "user": {
      "displayName": "Prashant Nair",
      "userId": "01567311054365266478"
     },
     "user_tz": -330
    },
    "id": "vi41cswRtI-p",
    "outputId": "fd80a559-7943-48c4-bc14-50b0d4946cbf"
   },
   "outputs": [
    {
     "ename": "",
     "evalue": "",
     "output_type": "error",
     "traceback": [
      "\u001b[1;31mFailed to start the Kernel 'ipykernel_py3 (Python 3.12.2)'. \n",
      "\u001b[1;31mView Jupyter <a href='command:jupyter.viewOutput'>log</a> for further details. WebSocket is not defined"
     ]
    }
   ],
   "source": [
    "import torch\n",
    "import torch.nn as nn\n",
    "import torch.optim as optim\n",
    "from torchvision import datasets, transforms\n",
    "from torch.utils.data import DataLoader\n",
    "from torchvision.utils import save_image\n",
    "import os\n",
    "\n",
    "# ✅ Config\n",
    "device = torch.device(\"cuda\" if torch.cuda.is_available() else \"cpu\")\n",
    "z_dim = 100\n",
    "lr = 0.0002\n",
    "batch_size = 128\n",
    "epochs = 50\n",
    "image_dir = \"mnist_dcgan_output\"\n",
    "os.makedirs(image_dir, exist_ok=True)\n",
    "\n",
    "# ✅ Data (MNIST, grayscale 28x28)\n",
    "transform = transforms.Compose([\n",
    "    transforms.Resize(28),\n",
    "    transforms.ToTensor(),\n",
    "    transforms.Normalize([0.5], [0.5])\n",
    "])\n",
    "dataloader = DataLoader(\n",
    "    datasets.MNIST(root=\"./data\", train=True, transform=transform, download=True),\n",
    "    batch_size=batch_size, shuffle=True\n",
    ")\n",
    "\n",
    "# ✅ Generator\n",
    "class Generator(nn.Module):\n",
    "    def __init__(self, z_dim=100, img_channels=1, feature_g=64):\n",
    "        super().__init__()\n",
    "        self.net = nn.Sequential(\n",
    "            nn.ConvTranspose2d(z_dim, feature_g * 4, 3, 1, 0),    # 1x1 -> 3x3\n",
    "            nn.BatchNorm2d(feature_g * 4),\n",
    "            nn.ReLU(True),\n",
    "\n",
    "            nn.ConvTranspose2d(feature_g * 4, feature_g * 2, 4, 2, 1),  # 3x3 -> 7x7\n",
    "            nn.BatchNorm2d(feature_g * 2),\n",
    "            nn.ReLU(True),\n",
    "\n",
    "            nn.ConvTranspose2d(feature_g * 2, feature_g, 4, 2, 1),      # 7x7 -> 14x14\n",
    "            nn.BatchNorm2d(feature_g),\n",
    "            nn.ReLU(True),\n",
    "\n",
    "            nn.ConvTranspose2d(feature_g, img_channels, 4, 2, 1),       # 14x14 -> 28x28\n",
    "            nn.Tanh()\n",
    "        )\n",
    "\n",
    "    def forward(self, z):\n",
    "        return self.net(z)\n",
    "\n",
    "# ✅ Discriminator (fixed 7x7 kernel issue)\n",
    "class Discriminator(nn.Module):\n",
    "    def __init__(self, img_channels=1, feature_d=64):\n",
    "        super().__init__()\n",
    "        self.net = nn.Sequential(\n",
    "            nn.Conv2d(img_channels, feature_d, 4, 2, 1),         # 28x28 → 14x14\n",
    "            nn.LeakyReLU(0.2, inplace=True),\n",
    "\n",
    "            nn.Conv2d(feature_d, feature_d * 2, 4, 2, 1),         # 14x14 → 7x7\n",
    "            nn.BatchNorm2d(feature_d * 2),\n",
    "            nn.LeakyReLU(0.2, inplace=True),\n",
    "\n",
    "            nn.Conv2d(feature_d * 2, 1, 4, 1, 0),                 # 7x7 → 4x4\n",
    "            nn.Sigmoid()\n",
    "        )\n",
    "\n",
    "    def forward(self, x):\n",
    "        return self.net(x).mean([2, 3])\n"
   ]
  },
  {
   "cell_type": "code",
   "execution_count": null,
   "metadata": {
    "colab": {
     "base_uri": "https://localhost:8080/"
    },
    "executionInfo": {
     "elapsed": 1093900,
     "status": "ok",
     "timestamp": 1744825158216,
     "user": {
      "displayName": "Prashant Nair",
      "userId": "01567311054365266478"
     },
     "user_tz": -330
    },
    "id": "34yMEyxotQQb",
    "outputId": "272ad53e-ecc3-4016-b2e5-eb307ad83e0c"
   },
   "outputs": [],
   "source": [
    "# Initialize models\n",
    "G = Generator(z_dim=z_dim).to(device)\n",
    "D = Discriminator().to(device)\n",
    "\n",
    "# Loss and optimizers\n",
    "criterion = nn.BCELoss()\n",
    "opt_G = optim.Adam(G.parameters(), lr=lr, betas=(0.5, 0.999))\n",
    "opt_D = optim.Adam(D.parameters(), lr=lr, betas=(0.5, 0.999))\n",
    "\n",
    "# Training loop\n",
    "for epoch in range(epochs):\n",
    "    for real, _ in dataloader:\n",
    "        real = real.to(device)\n",
    "        batch_size = real.size(0)\n",
    "        real_labels = torch.ones(batch_size, 1).to(device)\n",
    "        fake_labels = torch.zeros(batch_size, 1).to(device)\n",
    "\n",
    "        # === Train Discriminator ===\n",
    "        z = torch.randn(batch_size, z_dim, 1, 1).to(device)\n",
    "        fake = G(z).detach()\n",
    "\n",
    "        d_real = D(real)\n",
    "        d_fake = D(fake)\n",
    "        d_loss = criterion(d_real, real_labels) + criterion(d_fake, fake_labels)\n",
    "\n",
    "        opt_D.zero_grad()\n",
    "        d_loss.backward()\n",
    "        opt_D.step()\n",
    "\n",
    "        # === Train Generator ===\n",
    "        z = torch.randn(batch_size, z_dim, 1, 1).to(device)\n",
    "        fake = G(z)\n",
    "        d_output = D(fake)\n",
    "        g_loss = criterion(d_output, real_labels)  # Generator tries to fool D\n",
    "\n",
    "        opt_G.zero_grad()\n",
    "        g_loss.backward()\n",
    "        opt_G.step()\n",
    "\n",
    "    print(f\"Epoch [{epoch+1}/{epochs}] | Loss D: {d_loss.item():.4f} | Loss G: {g_loss.item():.4f}\")\n",
    "\n",
    "    if (epoch + 1) % 10 == 0:\n",
    "        save_image(fake[:25], f\"{image_dir}/fake_epoch_{epoch+1}.png\", nrow=5, normalize=True)\n"
   ]
  }
 ],
 "metadata": {
  "accelerator": "GPU",
  "colab": {
   "authorship_tag": "ABX9TyOl2DRcK1WPgHi9p6c/vJiF",
   "gpuType": "T4",
   "provenance": []
  },
  "kernelspec": {
   "display_name": "ipykernel_py3",
   "language": "python",
   "name": "python3"
  },
  "language_info": {
   "name": "python",
   "version": "3.12.2"
  }
 },
 "nbformat": 4,
 "nbformat_minor": 0
}
