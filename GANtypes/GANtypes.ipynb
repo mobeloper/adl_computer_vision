{
 "cells": [
  {
   "cell_type": "code",
   "execution_count": null,
   "metadata": {
    "id": "0ms1PPDZgqJV"
   },
   "outputs": [],
   "source": [
    "# 1. Basic GAN (Vanilla GAN) -------------> Original Idea of GAN proposed by Ian Goodfellow\n",
    "# 2. DCGAN (Deep Convolutional GAN)\n",
    "#       - Uses CNN instead of ANN\n",
    "#       - Better when it comes to creating Images\n",
    "#\n",
    "# 3. WGAN (Wasserstien GAN)\n",
    "#       - Uses Wasserstien Distance formula instead of BCE loss\n",
    "#       - More stable in terms of training\n",
    "#\n",
    "# 4. WGAN with Gradient Penalty (Analogy -- Applying Batch Normalization on all weights calculated)\n",
    "#\n",
    "# 5. Conditional GAN (cGAN)\n",
    "#       - Generates data based on condition of label\n",
    "#\n",
    "# 6. AC-GAN ( Auxillary Classifier GAN)\n",
    "#       - Good for multi-class image generation"
   ]
  },
  {
   "cell_type": "code",
   "execution_count": null,
   "metadata": {
    "id": "w9AdRwdjkCVy"
   },
   "outputs": [],
   "source": []
  }
 ],
 "metadata": {
  "colab": {
   "authorship_tag": "ABX9TyM9sa3bb2zKFrzrAByMVbJO",
   "provenance": []
  },
  "kernelspec": {
   "display_name": "Python 3",
   "name": "python3"
  },
  "language_info": {
   "name": "python"
  }
 },
 "nbformat": 4,
 "nbformat_minor": 0
}
