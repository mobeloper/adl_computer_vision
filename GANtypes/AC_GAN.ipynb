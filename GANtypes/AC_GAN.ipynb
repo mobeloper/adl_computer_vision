{
  "cells": [
    {
      "cell_type": "code",
      "execution_count": 1,
      "metadata": {
        "id": "2QmOQeAb7n9K"
      },
      "outputs": [],
      "source": [
        "# AC-GAN (Auxiliary Classifier GAN)\n",
        "#\n",
        "# What's Special About AC-GAN?\n",
        "# Regular GANs just ask the Discriminator:\n",
        "# “Is this image real or fake?”\n",
        "\n",
        "# AC-GAN adds another job for the Discriminator:\n",
        "# “Also, tell me the class of the image (like digit 0–9 in MNIST)!”\n",
        "\n",
        "#So the Discriminator has two outputs:\n",
        "# Real or Fake (Adversarial loss)\n",
        "# Which Class (Classification loss)\n",
        "\n",
        "\n",
        "#Why Do We Add Class Labels?\n",
        "#Adding the label helps both players:\n",
        "\n",
        "#Generator learns how to create a specific type of image (e.g., digit 5).\n",
        "#Discriminator becomes smarter by not just spotting fakes but also understanding what the image is.\n",
        "\n",
        "#This makes training more stable and generation more controlled. You can say:\n",
        "#“Give me a fake digit 3” and the Generator will do just that.\n",
        "\n",
        "#How It Works (Step-by-step)\n",
        "#Input to Generator: Random noise + class label (e.g., “digit 3”)\n",
        "#Output: A fake image that looks like digit 3.\n",
        "\n",
        "#Input to Discriminator: Real and fake images.\n",
        "#Output from Discriminator: Probability of being real or fake & Predicted class (0–9)\n",
        "\n",
        "#Two types of loss used:\n",
        "\n",
        "#Adversarial Loss: Fool the Discriminator (GAN-style)\n",
        "#Auxiliary Loss: Predict correct class label\n",
        "\n",
        "#Key Benefits of AC-GAN\n",
        "#You can control what to generate (digit 7, shoe, face, etc.)\n",
        "\n",
        "#The model becomes more stable and often performs better\n",
        "\n",
        "#Useful in conditional generation tasks (generate X from class Y)"
      ]
    },
    {
      "cell_type": "code",
      "execution_count": 2,
      "metadata": {
        "id": "7SPQ2PXw6mw8"
      },
      "outputs": [],
      "source": [
        "import torch\n",
        "import torch.nn as nn\n",
        "import torchvision\n",
        "import torchvision.transforms as transforms\n",
        "from torch.utils.data import DataLoader\n",
        "import matplotlib.pyplot as plt\n",
        "import numpy as np"
      ]
    },
    {
      "cell_type": "code",
      "execution_count": 3,
      "metadata": {
        "id": "sRJDezYt6uv5"
      },
      "outputs": [],
      "source": [
        "# Hyperparameters\n",
        "latent_dim = 100 #analogy: number of principle components (random noise)\n",
        "num_classes = 10\n",
        "img_shape = (1, 28, 28)\n",
        "batch_size = 64\n",
        "epochs = 100\n",
        "lr = 0.0002\n",
        "device = torch.device(\"cuda\" if torch.cuda.is_available() else \"cpu\")"
      ]
    },
    {
      "cell_type": "code",
      "execution_count": 4,
      "metadata": {
        "colab": {
          "base_uri": "https://localhost:8080/"
        },
        "id": "dtnHjyvE6-ok",
        "outputId": "97844219-9ab2-41db-bd93-e0a93dedb6cd"
      },
      "outputs": [
        {
          "name": "stdout",
          "output_type": "stream",
          "text": [
            "Downloading http://yann.lecun.com/exdb/mnist/train-images-idx3-ubyte.gz\n",
            "Failed to download (trying next):\n",
            "HTTP Error 404: Not Found\n",
            "\n",
            "Downloading https://ossci-datasets.s3.amazonaws.com/mnist/train-images-idx3-ubyte.gz\n",
            "Downloading https://ossci-datasets.s3.amazonaws.com/mnist/train-images-idx3-ubyte.gz to ./data/MNIST/raw/train-images-idx3-ubyte.gz\n"
          ]
        },
        {
          "name": "stderr",
          "output_type": "stream",
          "text": [
            "100%|██████████| 9912422/9912422 [00:04<00:00, 2448614.93it/s]\n"
          ]
        },
        {
          "name": "stdout",
          "output_type": "stream",
          "text": [
            "Extracting ./data/MNIST/raw/train-images-idx3-ubyte.gz to ./data/MNIST/raw\n",
            "\n",
            "Downloading http://yann.lecun.com/exdb/mnist/train-labels-idx1-ubyte.gz\n",
            "Failed to download (trying next):\n",
            "HTTP Error 404: Not Found\n",
            "\n",
            "Downloading https://ossci-datasets.s3.amazonaws.com/mnist/train-labels-idx1-ubyte.gz\n",
            "Downloading https://ossci-datasets.s3.amazonaws.com/mnist/train-labels-idx1-ubyte.gz to ./data/MNIST/raw/train-labels-idx1-ubyte.gz\n"
          ]
        },
        {
          "name": "stderr",
          "output_type": "stream",
          "text": [
            "100%|██████████| 28881/28881 [00:00<00:00, 251105.79it/s]\n"
          ]
        },
        {
          "name": "stdout",
          "output_type": "stream",
          "text": [
            "Extracting ./data/MNIST/raw/train-labels-idx1-ubyte.gz to ./data/MNIST/raw\n",
            "\n",
            "Downloading http://yann.lecun.com/exdb/mnist/t10k-images-idx3-ubyte.gz\n",
            "Failed to download (trying next):\n",
            "HTTP Error 404: Not Found\n",
            "\n",
            "Downloading https://ossci-datasets.s3.amazonaws.com/mnist/t10k-images-idx3-ubyte.gz\n",
            "Downloading https://ossci-datasets.s3.amazonaws.com/mnist/t10k-images-idx3-ubyte.gz to ./data/MNIST/raw/t10k-images-idx3-ubyte.gz\n"
          ]
        },
        {
          "name": "stderr",
          "output_type": "stream",
          "text": [
            "100%|██████████| 1648877/1648877 [00:00<00:00, 1965918.63it/s]\n"
          ]
        },
        {
          "name": "stdout",
          "output_type": "stream",
          "text": [
            "Extracting ./data/MNIST/raw/t10k-images-idx3-ubyte.gz to ./data/MNIST/raw\n",
            "\n",
            "Downloading http://yann.lecun.com/exdb/mnist/t10k-labels-idx1-ubyte.gz\n",
            "Failed to download (trying next):\n",
            "HTTP Error 404: Not Found\n",
            "\n",
            "Downloading https://ossci-datasets.s3.amazonaws.com/mnist/t10k-labels-idx1-ubyte.gz\n",
            "Downloading https://ossci-datasets.s3.amazonaws.com/mnist/t10k-labels-idx1-ubyte.gz to ./data/MNIST/raw/t10k-labels-idx1-ubyte.gz\n"
          ]
        },
        {
          "name": "stderr",
          "output_type": "stream",
          "text": [
            "100%|██████████| 4542/4542 [00:00<00:00, 4405765.21it/s]"
          ]
        },
        {
          "name": "stdout",
          "output_type": "stream",
          "text": [
            "Extracting ./data/MNIST/raw/t10k-labels-idx1-ubyte.gz to ./data/MNIST/raw\n",
            "\n"
          ]
        },
        {
          "name": "stderr",
          "output_type": "stream",
          "text": [
            "\n"
          ]
        }
      ],
      "source": [
        "# DataLoader\n",
        "transform = transforms.Compose([transforms.ToTensor(), transforms.Normalize([0.5], [0.5])])\n",
        "dataset = torchvision.datasets.MNIST(root=\"./data\", train=True, download=True, transform=transform)\n",
        "dataloader = DataLoader(dataset, batch_size=batch_size, shuffle=True)"
      ]
    },
    {
      "cell_type": "code",
      "execution_count": 5,
      "metadata": {
        "id": "vrwkwtf7DfhN"
      },
      "outputs": [],
      "source": [
        "class Generator(nn.Module):\n",
        "    def __init__(self):\n",
        "        super(Generator, self).__init__()\n",
        "\n",
        "        # Embedding layer to convert class labels (0-9) into vectors\n",
        "        self.label_emb = nn.Embedding(num_classes, num_classes)\n",
        "\n",
        "        # Fully connected layers for generator\n",
        "        self.model = nn.Sequential(\n",
        "            nn.Linear(latent_dim + num_classes, 128),  # input: noise + label\n",
        "            nn.LeakyReLU(0.2),                          # activation function\n",
        "\n",
        "            nn.Linear(128, 256),                        # hidden layer\n",
        "            nn.BatchNorm1d(256),                        # normalize for stable training\n",
        "            nn.LeakyReLU(0.2),\n",
        "\n",
        "            nn.Linear(256, 512),                        # deeper layer\n",
        "            nn.BatchNorm1d(512),\n",
        "            nn.LeakyReLU(0.2),\n",
        "\n",
        "            nn.Linear(512, int(np.prod(img_shape))),    # final output layer\n",
        "            nn.Tanh()                                   # scale output between [-1, 1]\n",
        "        )\n",
        "\n",
        "    def forward(self, noise, labels):\n",
        "        # Concatenate noise and embedded label\n",
        "        input = torch.cat((noise, self.label_emb(labels)), -1)\n",
        "\n",
        "        # Pass through the generator network\n",
        "        img = self.model(input)\n",
        "\n",
        "        # Reshape the output to image shape (1, 28, 28)\n",
        "        img = img.view(img.size(0), *img_shape)\n",
        "        return img\n"
      ]
    },
    {
      "cell_type": "code",
      "execution_count": 6,
      "metadata": {
        "id": "QtfNaQwfDiQh"
      },
      "outputs": [],
      "source": [
        "class Discriminator(nn.Module):\n",
        "    def __init__(self):\n",
        "        super(Discriminator, self).__init__()\n",
        "\n",
        "        # Shared layers for both adversarial (real/fake) and auxiliary (class) output\n",
        "        self.model = nn.Sequential(\n",
        "            nn.Linear(int(np.prod(img_shape)), 512),  # flatten input image\n",
        "            nn.LeakyReLU(0.2),\n",
        "\n",
        "            nn.Linear(512, 256),\n",
        "            nn.LeakyReLU(0.2)\n",
        "        )\n",
        "\n",
        "        # Output: Real/Fake probability (single unit, no activation here)\n",
        "        self.adv_layer = nn.Linear(256, 1)\n",
        "\n",
        "        # Output: Class prediction (10 classes)\n",
        "        self.aux_layer = nn.Linear(256, num_classes)\n",
        "\n",
        "    def forward(self, img):\n",
        "        # Flatten image to vector (batch_size, 28*28)\n",
        "        img_flat = img.view(img.size(0), -1)\n",
        "\n",
        "        # Shared representation\n",
        "        out = self.model(img_flat)\n",
        "\n",
        "        # Real/fake output (adversarial)\n",
        "        validity = self.adv_layer(out)\n",
        "\n",
        "        # Class label prediction (auxiliary)\n",
        "        label = self.aux_layer(out)\n",
        "\n",
        "        return validity, label\n"
      ]
    },
    {
      "cell_type": "code",
      "execution_count": null,
      "metadata": {
        "id": "drQeJIYb7FId"
      },
      "outputs": [],
      "source": [
        "# Initialize models\n",
        "generator = Generator().to(device)\n",
        "discriminator = Discriminator().to(device)\n",
        "\n",
        "# # Load the existing model and continue training\n",
        "# discriminator.load_state_dict(torch.load('acgan_discriminator.pth', map_location=torch.device('cpu')))\n",
        "# generator.load_state_dict(torch.load('acgan_generator.pth', map_location=torch.device('cpu')))\n"
      ]
    },
    {
      "cell_type": "code",
      "execution_count": 8,
      "metadata": {
        "id": "a3M40wSK7Gt2"
      },
      "outputs": [],
      "source": [
        "# Loss functions\n",
        "adversarial_loss = nn.BCEWithLogitsLoss()\n",
        "auxiliary_loss = nn.CrossEntropyLoss()"
      ]
    },
    {
      "cell_type": "code",
      "execution_count": 9,
      "metadata": {
        "id": "X2nQcU0Q7H3_"
      },
      "outputs": [],
      "source": [
        "# Optimizers\n",
        "optimizer_G = torch.optim.Adam(generator.parameters(), lr=lr, betas=(0.5, 0.999))\n",
        "optimizer_D = torch.optim.Adam(discriminator.parameters(), lr=lr, betas=(0.5, 0.999))\n"
      ]
    },
    {
      "cell_type": "code",
      "execution_count": 10,
      "metadata": {
        "colab": {
          "base_uri": "https://localhost:8080/"
        },
        "id": "ua25Mvyi7JOk",
        "outputId": "73966c91-2760-4514-cfe1-ccd9ddf6ff90"
      },
      "outputs": [
        {
          "name": "stdout",
          "output_type": "stream",
          "text": [
            "Epoch [1/100]  D_loss: 0.7241  G_loss: 0.6782\n",
            "Epoch [2/100]  D_loss: 0.7659  G_loss: 1.8045\n",
            "Epoch [3/100]  D_loss: 0.8674  G_loss: 1.5282\n",
            "Epoch [4/100]  D_loss: 0.6465  G_loss: 1.5940\n",
            "Epoch [5/100]  D_loss: 0.6365  G_loss: 2.4873\n",
            "Epoch [6/100]  D_loss: 0.7657  G_loss: 0.3778\n",
            "Epoch [7/100]  D_loss: 0.6199  G_loss: 0.9490\n",
            "Epoch [8/100]  D_loss: 0.7871  G_loss: 0.9245\n",
            "Epoch [9/100]  D_loss: 0.4589  G_loss: 1.7792\n",
            "Epoch [10/100]  D_loss: 0.3304  G_loss: 2.4450\n",
            "Epoch [11/100]  D_loss: 0.4016  G_loss: 2.1622\n",
            "Epoch [12/100]  D_loss: 0.4205  G_loss: 1.7765\n",
            "Epoch [13/100]  D_loss: 0.3604  G_loss: 1.1771\n",
            "Epoch [14/100]  D_loss: 0.3643  G_loss: 1.2142\n",
            "Epoch [15/100]  D_loss: 0.3742  G_loss: 1.0747\n",
            "Epoch [16/100]  D_loss: 0.3558  G_loss: 1.1362\n",
            "Epoch [17/100]  D_loss: 0.3023  G_loss: 2.1087\n",
            "Epoch [18/100]  D_loss: 0.5771  G_loss: 1.7307\n",
            "Epoch [19/100]  D_loss: 0.3611  G_loss: 4.1995\n",
            "Epoch [20/100]  D_loss: 0.5634  G_loss: 4.4046\n",
            "Epoch [21/100]  D_loss: 0.3394  G_loss: 1.0738\n",
            "Epoch [22/100]  D_loss: 0.3491  G_loss: 1.7627\n",
            "Epoch [23/100]  D_loss: 0.2874  G_loss: 2.8272\n",
            "Epoch [24/100]  D_loss: 0.2740  G_loss: 2.5429\n",
            "Epoch [25/100]  D_loss: 0.2541  G_loss: 1.7045\n",
            "Epoch [26/100]  D_loss: 0.4352  G_loss: 4.3372\n",
            "Epoch [27/100]  D_loss: 0.4542  G_loss: 1.2133\n",
            "Epoch [28/100]  D_loss: 0.4483  G_loss: 1.7307\n",
            "Epoch [29/100]  D_loss: 0.3273  G_loss: 3.0035\n",
            "Epoch [30/100]  D_loss: 0.2957  G_loss: 2.7272\n",
            "Epoch [31/100]  D_loss: 0.3190  G_loss: 5.5737\n",
            "Epoch [32/100]  D_loss: 0.4569  G_loss: 2.3300\n",
            "Epoch [33/100]  D_loss: 0.2640  G_loss: 2.7794\n",
            "Epoch [34/100]  D_loss: 0.1925  G_loss: 2.3729\n",
            "Epoch [35/100]  D_loss: 0.3443  G_loss: 1.7405\n",
            "Epoch [36/100]  D_loss: 0.2259  G_loss: 2.2049\n",
            "Epoch [37/100]  D_loss: 0.4901  G_loss: 2.1451\n",
            "Epoch [38/100]  D_loss: 0.3835  G_loss: 2.1934\n",
            "Epoch [39/100]  D_loss: 0.1311  G_loss: 2.5662\n",
            "Epoch [40/100]  D_loss: 0.2105  G_loss: 3.1973\n",
            "Epoch [41/100]  D_loss: 0.4281  G_loss: 0.9341\n",
            "Epoch [42/100]  D_loss: 0.2131  G_loss: 3.4896\n",
            "Epoch [43/100]  D_loss: 0.2067  G_loss: 2.7238\n",
            "Epoch [44/100]  D_loss: 0.3064  G_loss: 3.9916\n",
            "Epoch [45/100]  D_loss: 0.1737  G_loss: 2.8357\n",
            "Epoch [46/100]  D_loss: 0.1548  G_loss: 2.9663\n",
            "Epoch [47/100]  D_loss: 0.4454  G_loss: 3.4923\n",
            "Epoch [48/100]  D_loss: 0.2876  G_loss: 2.9002\n",
            "Epoch [49/100]  D_loss: 0.3766  G_loss: 2.7020\n",
            "Epoch [50/100]  D_loss: 0.1766  G_loss: 3.9333\n",
            "Epoch [51/100]  D_loss: 0.3707  G_loss: 2.6481\n",
            "Epoch [52/100]  D_loss: 0.3510  G_loss: 3.8668\n",
            "Epoch [53/100]  D_loss: 0.1887  G_loss: 3.5508\n",
            "Epoch [54/100]  D_loss: 0.3097  G_loss: 2.6674\n",
            "Epoch [55/100]  D_loss: 0.4022  G_loss: 4.6405\n",
            "Epoch [56/100]  D_loss: 0.2520  G_loss: 3.6798\n",
            "Epoch [57/100]  D_loss: 0.2979  G_loss: 4.3920\n",
            "Epoch [58/100]  D_loss: 0.2105  G_loss: 2.3253\n",
            "Epoch [59/100]  D_loss: 0.4246  G_loss: 5.1257\n",
            "Epoch [60/100]  D_loss: 0.5846  G_loss: 0.8532\n",
            "Epoch [61/100]  D_loss: 0.3420  G_loss: 4.4491\n",
            "Epoch [62/100]  D_loss: 0.4008  G_loss: 3.7058\n",
            "Epoch [63/100]  D_loss: 0.1571  G_loss: 3.0139\n",
            "Epoch [64/100]  D_loss: 0.1008  G_loss: 2.8648\n",
            "Epoch [65/100]  D_loss: 0.2208  G_loss: 2.9194\n",
            "Epoch [66/100]  D_loss: 0.2925  G_loss: 2.6098\n",
            "Epoch [67/100]  D_loss: 0.2426  G_loss: 3.3947\n",
            "Epoch [68/100]  D_loss: 0.2059  G_loss: 2.4692\n",
            "Epoch [69/100]  D_loss: 0.1579  G_loss: 2.5602\n",
            "Epoch [70/100]  D_loss: 0.2864  G_loss: 4.8088\n",
            "Epoch [71/100]  D_loss: 0.3030  G_loss: 3.1498\n",
            "Epoch [72/100]  D_loss: 0.2045  G_loss: 2.5035\n",
            "Epoch [73/100]  D_loss: 0.2401  G_loss: 3.3659\n",
            "Epoch [74/100]  D_loss: 0.2689  G_loss: 2.0499\n",
            "Epoch [75/100]  D_loss: 0.3444  G_loss: 2.1494\n",
            "Epoch [76/100]  D_loss: 0.1285  G_loss: 2.3232\n",
            "Epoch [77/100]  D_loss: 0.7143  G_loss: 3.1547\n",
            "Epoch [78/100]  D_loss: 0.1416  G_loss: 2.7998\n",
            "Epoch [79/100]  D_loss: 0.2813  G_loss: 1.7084\n",
            "Epoch [80/100]  D_loss: 0.3978  G_loss: 3.3437\n",
            "Epoch [81/100]  D_loss: 0.7017  G_loss: 8.0429\n",
            "Epoch [82/100]  D_loss: 0.3020  G_loss: 2.7501\n",
            "Epoch [83/100]  D_loss: 0.4200  G_loss: 3.8498\n",
            "Epoch [84/100]  D_loss: 0.1282  G_loss: 3.3456\n",
            "Epoch [85/100]  D_loss: 0.1551  G_loss: 3.2227\n",
            "Epoch [86/100]  D_loss: 0.1843  G_loss: 2.8907\n",
            "Epoch [87/100]  D_loss: 0.1641  G_loss: 3.7138\n",
            "Epoch [88/100]  D_loss: 0.3891  G_loss: 5.3728\n",
            "Epoch [89/100]  D_loss: 0.2860  G_loss: 4.4694\n",
            "Epoch [90/100]  D_loss: 0.0305  G_loss: 3.6928\n",
            "Epoch [91/100]  D_loss: 0.1468  G_loss: 4.0602\n",
            "Epoch [92/100]  D_loss: 0.2777  G_loss: 2.1743\n",
            "Epoch [93/100]  D_loss: 0.1845  G_loss: 3.7022\n",
            "Epoch [94/100]  D_loss: 0.1135  G_loss: 3.3160\n",
            "Epoch [95/100]  D_loss: 0.1841  G_loss: 5.5567\n",
            "Epoch [96/100]  D_loss: 0.2514  G_loss: 1.8479\n",
            "Epoch [97/100]  D_loss: 0.2717  G_loss: 3.7467\n",
            "Epoch [98/100]  D_loss: 0.3357  G_loss: 3.4844\n",
            "Epoch [99/100]  D_loss: 0.1215  G_loss: 3.9584\n",
            "Epoch [100/100]  D_loss: 0.1784  G_loss: 2.3320\n"
          ]
        }
      ],
      "source": [
        "# Training\n",
        "for epoch in range(epochs):\n",
        "    for i, (imgs, labels) in enumerate(dataloader):\n",
        "\n",
        "        real_imgs = imgs.to(device)\n",
        "        labels = labels.to(device)\n",
        "\n",
        "        # -----------------\n",
        "        #  Train Generator\n",
        "        # -----------------\n",
        "        optimizer_G.zero_grad()\n",
        "\n",
        "        z = torch.randn(imgs.size(0), latent_dim).to(device)\n",
        "        gen_labels = torch.randint(0, num_classes, (imgs.size(0),)).to(device)\n",
        "        gen_imgs = generator(z, gen_labels)\n",
        "\n",
        "        validity, pred_label = discriminator(gen_imgs)\n",
        "\n",
        "        g_loss = adversarial_loss(validity, torch.ones_like(validity)) + \\\n",
        "                 auxiliary_loss(pred_label, gen_labels)\n",
        "\n",
        "        g_loss.backward()\n",
        "        optimizer_G.step()\n",
        "\n",
        "        # ---------------------\n",
        "        #  Train Discriminator\n",
        "        # ---------------------\n",
        "        optimizer_D.zero_grad()\n",
        "\n",
        "        real_pred, real_aux = discriminator(real_imgs)\n",
        "        d_real_loss = adversarial_loss(real_pred, torch.ones_like(real_pred)) + \\\n",
        "                      auxiliary_loss(real_aux, labels)\n",
        "\n",
        "        fake_pred, fake_aux = discriminator(gen_imgs.detach())\n",
        "        d_fake_loss = adversarial_loss(fake_pred, torch.zeros_like(fake_pred)) + \\\n",
        "                      auxiliary_loss(fake_aux, gen_labels)\n",
        "\n",
        "        d_loss = (d_real_loss + d_fake_loss) / 2\n",
        "        d_loss.backward()\n",
        "        optimizer_D.step()\n",
        "\n",
        "    print(f\"Epoch [{epoch+1}/{epochs}]  D_loss: {d_loss.item():.4f}  G_loss: {g_loss.item():.4f}\")\n"
      ]
    },
    {
      "cell_type": "code",
      "execution_count": 11,
      "metadata": {
        "colab": {
          "base_uri": "https://localhost:8080/",
          "height": 261
        },
        "id": "dOJz8Xrp7LRc",
        "outputId": "87ec50f2-81e9-48b8-b81c-e6ce031b8a4e"
      },
      "outputs": [
        {
          "data": {
            "image/png": "[encoded data removed]",
            "text/plain": [
              "<Figure size 640x480 with 1 Axes>"
            ]
          },
          "metadata": {},
          "output_type": "display_data"
        }
      ],
      "source": [
        "# Save Sample Images\n",
        "def show_sample():\n",
        "    z = torch.randn(10, latent_dim).to(device)\n",
        "    labels = torch.arange(0, 10).to(device)\n",
        "    gen_imgs = generator(z, labels).detach().cpu()\n",
        "\n",
        "    grid = torchvision.utils.make_grid(gen_imgs, nrow=5, normalize=True)\n",
        "    plt.imshow(np.transpose(grid, (1, 2, 0)))\n",
        "    plt.title(\"AC-GAN Generated Digits\")\n",
        "    plt.axis(\"off\")\n",
        "    plt.show()\n",
        "\n",
        "show_sample()"
      ]
    },
    {
      "cell_type": "code",
      "execution_count": 12,
      "metadata": {
        "colab": {
          "base_uri": "https://localhost:8080/",
          "height": 428
        },
        "id": "cAFZukWt7OTU",
        "outputId": "b6e75c4c-37bc-4078-eec8-408441d10b3f"
      },
      "outputs": [
        {
          "data": {
            "image/png": "[encoded data removed]",
            "text/plain": [
              "<Figure size 640x480 with 1 Axes>"
            ]
          },
          "metadata": {},
          "output_type": "display_data"
        }
      ],
      "source": [
        "import matplotlib.pyplot as plt\n",
        "import torchvision.utils as vutils\n",
        "\n",
        "# Switch generator to evaluation mode\n",
        "generator.eval()\n",
        "\n",
        "# Choose class label for prediction (e.g., digit 3)\n",
        "target_label = torch.tensor([3]).to(device)\n",
        "\n",
        "# Generate random noise vector\n",
        "z = torch.randn(1, latent_dim).to(device)\n",
        "\n",
        "# Generate image\n",
        "with torch.no_grad():\n",
        "    gen_img = generator(z, target_label)\n",
        "\n",
        "# Unnormalize and plot\n",
        "def show_generated_image(img_tensor):\n",
        "    img = img_tensor.squeeze().cpu().numpy()\n",
        "    img = (img + 1) / 2  # Rescale from [-1,1] to [0,1]\n",
        "    plt.imshow(img, cmap=\"gray\")\n",
        "    plt.title(f\"Generated Digit: {target_label.item()}\")\n",
        "    plt.axis(\"off\")\n",
        "    plt.show()\n",
        "\n",
        "show_generated_image(gen_img)\n"
      ]
    },
    {
      "cell_type": "code",
      "execution_count": null,
      "metadata": {
        "id": "22fS8L-zDEkC"
      },
      "outputs": [],
      "source": [
        "# Save generator and discriminator\n",
        "torch.save(generator.state_dict(), \"acgan_generator.pth\")\n",
        "torch.save(discriminator.state_dict(), \"acgan_discriminator.pth\")\n"
      ]
    },
    {
      "cell_type": "code",
      "execution_count": null,
      "metadata": {
        "id": "TeblOzCEDOqD"
      },
      "outputs": [
        {
          "data": {
            "image/png": "[encoded data removed]",
            "text/plain": [
              "<Figure size 640x480 with 1 Axes>"
            ]
          },
          "metadata": {},
          "output_type": "display_data"
        }
      ],
      "source": [
        "# Recreate model architecture\n",
        "generator = Generator().to(device)\n",
        "discriminator = Discriminator().to(device)\n",
        "\n",
        "# Load weights\n",
        "generator.load_state_dict(torch.load(\"acgan_generator.pth\"))\n",
        "discriminator.load_state_dict(torch.load(\"acgan_discriminator.pth\"))\n",
        "\n",
        "\n",
        "# Switch to evaluation mode\n",
        "generator.eval()\n",
        "discriminator.eval()\n",
        "\n",
        "## Generate digit\n",
        "digit=9\n",
        "label = torch.tensor([digit]).to(device)\n",
        "noise = torch.randn(1, latent_dim).to(device)\n",
        "\n",
        "with torch.no_grad():\n",
        "    gen_img = generator(noise, label)\n",
        "\n",
        "# Visualize\n",
        "import matplotlib.pyplot as plt\n",
        "plt.imshow(gen_img.squeeze().cpu().numpy(), cmap=\"gray\")\n",
        "plt.title(f\"Generated Digit: {digit}\")\n",
        "plt.axis(\"off\")\n",
        "plt.show()\n"
      ]
    },
    {
      "cell_type": "code",
      "execution_count": null,
      "metadata": {},
      "outputs": [],
      "source": []
    }
  ],
  "metadata": {
    "accelerator": "GPU",
    "colab": {
      "gpuType": "T4",
      "provenance": []
    },
    "kernelspec": {
      "display_name": "ipykernel_py3",
      "language": "python",
      "name": "python3"
    },
    "language_info": {
      "codemirror_mode": {
        "name": "ipython",
        "version": 3
      },
      "file_extension": ".py",
      "mimetype": "text/x-python",
      "name": "python",
      "nbconvert_exporter": "python",
      "pygments_lexer": "ipython3",
      "version": "3.12.2"
    }
  },
  "nbformat": 4,
  "nbformat_minor": 0
}
