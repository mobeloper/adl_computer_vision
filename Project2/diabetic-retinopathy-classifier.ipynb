{
 "cells": [
  {
   "cell_type": "markdown",
   "id": "2ca62972",
   "metadata": {},
   "source": [
    "# Train and Deploy a CNN Model Using TensorFlow Serving"
   ]
  },
  {
   "cell_type": "markdown",
   "id": "2c322d93",
   "metadata": {},
   "source": [
    "Objective:\n",
    "\n",
    "Build a CNN model using distributed training to detect diabetic retinopathy and deploy it using TensorFlow Serving."
   ]
  },
  {
   "cell_type": "markdown",
   "id": "f4d45b49",
   "metadata": {},
   "source": [
    "# Problem Statement:\n",
    "\n",
    " You are a Computer Vision Engineer at health.ai. Your company is developing a deep learning application to automate the detection of diabetic retinopathy. The company is collecting high-resolution retina image data from various clinical partners. However, the dataset is expected to be enormous and cannot be stored on a central system. You have been assigned the task of building a proof of concept using the Kaggle retinopathy dataset. Your goal is to train a CNN model with the Mirrored Strategy and deploy it with TensorFlow Serving.\n"
   ]
  },
  {
   "cell_type": "markdown",
   "id": "2827d1ee",
   "metadata": {},
   "source": [
    "# Dataset Details\n",
    "\n",
    "URL: https://www.kaggle.com/datasets/sachinkumar413/diabetic-retinopathy-dataset\n",
    "\n",
    "Total Class Labels = 5\n",
    "\n",
    "Total Images = 2750\n",
    "\n",
    "1. Healthy (Not DR) = 1000\n",
    "2. Mild DR = 370\n",
    "3. Moderate DR = 900\n",
    "4. Proliferative DR = 290\n",
    "5. Severe DR = 190\n",
    "\n",
    "DR: Diabetic Retinopathy"
   ]
  },
  {
   "cell_type": "markdown",
   "id": "801a3f7d",
   "metadata": {},
   "source": [
    " The dataset comprises a large collection of high-resolution retina images captured under various imaging conditions. For each subject, both left and right fields are provided. The images are labeled with a subject ID and designated as either left or right. A clinician has rated the presence of diabetic retinopathy in each image on a scale of 0 to 4. Like any real-world dataset, there may be noise in both the images and labels. The images might contain artifacts, be out of focus, underexposed, or overexposed."
   ]
  },
  {
   "cell_type": "markdown",
   "id": "4b73bd66",
   "metadata": {},
   "source": []
  }
 ],
 "metadata": {
  "language_info": {
   "name": "python"
  }
 },
 "nbformat": 4,
 "nbformat_minor": 5
}
